{
 "cells": [
  {
   "cell_type": "markdown",
   "metadata": {},
   "source": [
    "# Timeseries<a id=\"top\"></a>\n",
    "\n",
    "_Developed by Davíd Brakenhoff (Artesia) on July 19, 2019_\n",
    "<hr>\n",
    "This notebook explains the different options concerning timeseries in the waterbalans module.\n",
    "\n",
    "## Contents\n",
    "\n",
    "- [Types of Timeseries](#1)\n",
    "    - [Constant](#1.1)\n",
    "    - [ValueSeries](#1.2)\n",
    "    - [FEWS](#1.3)\n",
    "    - [KNMI](#1.4)\n",
    "    - [Local (currently not implemented)](#1.5)\n",
    "- [Methods for adding Timeseries](#2)\n",
    "    - [`add_series_from_database()`](#2.1)\n",
    "    - [`add_timeseries()`](#2.2)\n",
    "    - [`wb.utils.add_timeseries_to_obj()`](#2.3)\n",
    "- [Where are my timeseries?](#3)\n",
    "\n",
    "Import the requisite modules"
   ]
  },
  {
   "cell_type": "code",
   "execution_count": 1,
   "metadata": {},
   "outputs": [],
   "source": [
    "import matplotlib.pyplot as plt\n",
    "import numpy as np\n",
    "import pandas as pd\n",
    "import waterbalans as wb"
   ]
  },
  {
   "cell_type": "markdown",
   "metadata": {},
   "source": [
    "## [Types of Timeseries](#top)<a id=\"1\"></a>\n",
    "\n",
    "There are several types of Timeseries in the waterbalans module. The description of each of these types is given below.\n",
    "\n",
    "### [Constant](#top)<a id=\"1.1\"></a>\n",
    "The Constant Timeseries is, as the name implies, a timeseries with a constant value throughout the simulation. An example entry for adding a Constant Timeseries with the DataFrame containing series information is shown below:"
   ]
  },
  {
   "cell_type": "code",
   "execution_count": 2,
   "metadata": {},
   "outputs": [
    {
     "data": {
      "text/html": [
       "<div>\n",
       "<style scoped>\n",
       "    .dataframe tbody tr th:only-of-type {\n",
       "        vertical-align: middle;\n",
       "    }\n",
       "\n",
       "    .dataframe tbody tr th {\n",
       "        vertical-align: top;\n",
       "    }\n",
       "\n",
       "    .dataframe thead th {\n",
       "        text-align: right;\n",
       "    }\n",
       "</style>\n",
       "<table border=\"1\" class=\"dataframe\">\n",
       "  <thead>\n",
       "    <tr style=\"text-align: right;\">\n",
       "      <th></th>\n",
       "      <th>BakjeID</th>\n",
       "      <th>ClusterType</th>\n",
       "      <th>ParamType</th>\n",
       "      <th>Waarde</th>\n",
       "      <th>WaardeAlfa</th>\n",
       "      <th>StartDag</th>\n",
       "    </tr>\n",
       "  </thead>\n",
       "  <tbody>\n",
       "    <tr>\n",
       "      <th>0</th>\n",
       "      <td>1</td>\n",
       "      <td>Qkwel</td>\n",
       "      <td>Constant</td>\n",
       "      <td>1.25</td>\n",
       "      <td></td>\n",
       "      <td></td>\n",
       "    </tr>\n",
       "  </tbody>\n",
       "</table>\n",
       "</div>"
      ],
      "text/plain": [
       "   BakjeID ClusterType ParamType  Waarde WaardeAlfa StartDag\n",
       "0        1       Qkwel  Constant    1.25                    "
      ]
     },
     "execution_count": 2,
     "metadata": {},
     "output_type": "execute_result"
    }
   ],
   "source": [
    "df = pd.DataFrame(\n",
    "    columns=[\"BakjeID\", \"ClusterType\", \"ParamType\", \"Waarde\", \"WaardeAlfa\", \"StartDag\"],\n",
    "    index=[0],\n",
    "    data=[[1, \"Qkwel\", \"Constant\", 1.25, \"\", \"\"]],\n",
    ")\n",
    "df"
   ]
  },
  {
   "cell_type": "markdown",
   "metadata": {},
   "source": [
    "### [ValueSeries](#top)<a id=\"1.1\"></a>\n",
    "\n",
    "A ValueSeries is a timeseries with a constant value over a certain period. This can be used to differentiate between water levels in the winter and summer periods for example. ValueSeries are entered by adding multiple rows to the Timeseries DataFrame. \n",
    "\n",
    "Note that each year in the ValueSeries will be identical. Within a year there can be as many changes in the value as the user specificies"
   ]
  },
  {
   "cell_type": "code",
   "execution_count": 3,
   "metadata": {},
   "outputs": [
    {
     "data": {
      "text/html": [
       "<div>\n",
       "<style scoped>\n",
       "    .dataframe tbody tr th:only-of-type {\n",
       "        vertical-align: middle;\n",
       "    }\n",
       "\n",
       "    .dataframe tbody tr th {\n",
       "        vertical-align: top;\n",
       "    }\n",
       "\n",
       "    .dataframe thead th {\n",
       "        text-align: right;\n",
       "    }\n",
       "</style>\n",
       "<table border=\"1\" class=\"dataframe\">\n",
       "  <thead>\n",
       "    <tr style=\"text-align: right;\">\n",
       "      <th></th>\n",
       "      <th>BakjeID</th>\n",
       "      <th>ClusterType</th>\n",
       "      <th>ParamType</th>\n",
       "      <th>Waarde</th>\n",
       "      <th>WaardeAlfa</th>\n",
       "      <th>StartDag</th>\n",
       "    </tr>\n",
       "  </thead>\n",
       "  <tbody>\n",
       "    <tr>\n",
       "      <th>0</th>\n",
       "      <td>1</td>\n",
       "      <td>Qkwel</td>\n",
       "      <td>ValueSeries</td>\n",
       "      <td>1.25</td>\n",
       "      <td></td>\n",
       "      <td>10-04</td>\n",
       "    </tr>\n",
       "    <tr>\n",
       "      <th>1</th>\n",
       "      <td>1</td>\n",
       "      <td>Qkwel</td>\n",
       "      <td>ValueSeries</td>\n",
       "      <td>-1.25</td>\n",
       "      <td></td>\n",
       "      <td>10-10</td>\n",
       "    </tr>\n",
       "  </tbody>\n",
       "</table>\n",
       "</div>"
      ],
      "text/plain": [
       "   BakjeID ClusterType    ParamType  Waarde WaardeAlfa StartDag\n",
       "0        1       Qkwel  ValueSeries    1.25               10-04\n",
       "1        1       Qkwel  ValueSeries   -1.25               10-10"
      ]
     },
     "execution_count": 3,
     "metadata": {},
     "output_type": "execute_result"
    }
   ],
   "source": [
    "df = pd.DataFrame(\n",
    "    columns=[\"BakjeID\", \"ClusterType\", \"ParamType\", \"Waarde\", \"WaardeAlfa\", \"StartDag\"],\n",
    "    index=[0, 1],\n",
    "    data=[\n",
    "        [1, \"Qkwel\", \"ValueSeries\", 1.25, \"\", \"10-04\"],\n",
    "        [1, \"Qkwel\", \"ValueSeries\", -1.25, \"\", \"10-10\"],\n",
    "    ],\n",
    ")\n",
    "df"
   ]
  },
  {
   "cell_type": "markdown",
   "metadata": {},
   "source": [
    "Convert data to DataFrame with column `StartDag` as the index and `Waarde` as the values"
   ]
  },
  {
   "cell_type": "code",
   "execution_count": 4,
   "metadata": {},
   "outputs": [
    {
     "data": {
      "text/html": [
       "<div>\n",
       "<style scoped>\n",
       "    .dataframe tbody tr th:only-of-type {\n",
       "        vertical-align: middle;\n",
       "    }\n",
       "\n",
       "    .dataframe tbody tr th {\n",
       "        vertical-align: top;\n",
       "    }\n",
       "\n",
       "    .dataframe thead th {\n",
       "        text-align: right;\n",
       "    }\n",
       "</style>\n",
       "<table border=\"1\" class=\"dataframe\">\n",
       "  <thead>\n",
       "    <tr style=\"text-align: right;\">\n",
       "      <th></th>\n",
       "      <th>Waarde</th>\n",
       "    </tr>\n",
       "    <tr>\n",
       "      <th>StartDag</th>\n",
       "      <th></th>\n",
       "    </tr>\n",
       "  </thead>\n",
       "  <tbody>\n",
       "    <tr>\n",
       "      <th>10-04</th>\n",
       "      <td>1.25</td>\n",
       "    </tr>\n",
       "    <tr>\n",
       "      <th>10-10</th>\n",
       "      <td>-1.25</td>\n",
       "    </tr>\n",
       "  </tbody>\n",
       "</table>\n",
       "</div>"
      ],
      "text/plain": [
       "          Waarde\n",
       "StartDag        \n",
       "10-04       1.25\n",
       "10-10      -1.25"
      ]
     },
     "execution_count": 4,
     "metadata": {},
     "output_type": "execute_result"
    }
   ],
   "source": [
    "vs = df[[\"StartDag\", \"Waarde\"]].set_index(\"StartDag\")\n",
    "vs"
   ]
  },
  {
   "cell_type": "markdown",
   "metadata": {},
   "source": [
    "Create a time_index to specify over which period of time the ValueSeries should be created. Create the ValueSeries. See the resulting plot below:"
   ]
  },
  {
   "cell_type": "code",
   "execution_count": 5,
   "metadata": {},
   "outputs": [
    {
     "data": {
      "image/png": "[encoded data removed]",
      "text/plain": [
       "<Figure size 640x480 with 1 Axes>"
      ]
     },
     "metadata": {},
     "output_type": "display_data"
    }
   ],
   "source": [
    "time_index = pd.date_range(\"2017-01-01\", pd.Timestamp.now(), freq=\"D\")\n",
    "ts = wb.timeseries.create_block_series(vs, time_index)\n",
    "ts.plot()\n",
    "plt.show()"
   ]
  },
  {
   "cell_type": "markdown",
   "metadata": {},
   "source": [
    "### [FEWS](#top)<a id=\"1.1\"></a>\n",
    "\n",
    "A FEWS timeseries is a timeseries that is picked up from the FEWS database. In order to do this, a few FEWS parameters have to be specified:\n",
    "- filterId\n",
    "- moduleInstanceId\n",
    "- locationId\n",
    "- parameterId\n",
    "\n",
    "Example input"
   ]
  },
  {
   "cell_type": "code",
   "execution_count": 6,
   "metadata": {},
   "outputs": [
    {
     "data": {
      "text/html": [
       "<div>\n",
       "<style scoped>\n",
       "    .dataframe tbody tr th:only-of-type {\n",
       "        vertical-align: middle;\n",
       "    }\n",
       "\n",
       "    .dataframe tbody tr th {\n",
       "        vertical-align: top;\n",
       "    }\n",
       "\n",
       "    .dataframe thead th {\n",
       "        text-align: right;\n",
       "    }\n",
       "</style>\n",
       "<table border=\"1\" class=\"dataframe\">\n",
       "  <thead>\n",
       "    <tr style=\"text-align: right;\">\n",
       "      <th></th>\n",
       "      <th>BakjeID</th>\n",
       "      <th>ClusterType</th>\n",
       "      <th>ParamType</th>\n",
       "      <th>Waarde</th>\n",
       "      <th>WaardeAlfa</th>\n",
       "      <th>StartDag</th>\n",
       "    </tr>\n",
       "  </thead>\n",
       "  <tbody>\n",
       "    <tr>\n",
       "      <th>0</th>\n",
       "      <td>-9999</td>\n",
       "      <td>Neerslag</td>\n",
       "      <td>FEWS</td>\n",
       "      <td>NaN</td>\n",
       "      <td>meteo_meetstation_KNMI|ImportCAW|66005cal|P.me...</td>\n",
       "      <td></td>\n",
       "    </tr>\n",
       "    <tr>\n",
       "      <th>1</th>\n",
       "      <td>-9999</td>\n",
       "      <td>Verdamping</td>\n",
       "      <td>FEWS</td>\n",
       "      <td>NaN</td>\n",
       "      <td>meteo_meetstation_KNMI|ImportCAW|66002_Verdamp...</td>\n",
       "      <td></td>\n",
       "    </tr>\n",
       "  </tbody>\n",
       "</table>\n",
       "</div>"
      ],
      "text/plain": [
       "   BakjeID ClusterType ParamType  Waarde  \\\n",
       "0    -9999    Neerslag      FEWS     NaN   \n",
       "1    -9999  Verdamping      FEWS     NaN   \n",
       "\n",
       "                                          WaardeAlfa StartDag  \n",
       "0  meteo_meetstation_KNMI|ImportCAW|66005cal|P.me...           \n",
       "1  meteo_meetstation_KNMI|ImportCAW|66002_Verdamp...           "
      ]
     },
     "execution_count": 6,
     "metadata": {},
     "output_type": "execute_result"
    }
   ],
   "source": [
    "df = pd.DataFrame(\n",
    "    columns=[\"BakjeID\", \"ClusterType\", \"ParamType\", \"Waarde\", \"WaardeAlfa\", \"StartDag\"],\n",
    "    index=[0, 1],\n",
    "    data=[\n",
    "        [\n",
    "            -9999,\n",
    "            \"Neerslag\",\n",
    "            \"FEWS\",\n",
    "            np.nan,\n",
    "            \"meteo_meetstation_KNMI|ImportCAW|66005cal|P.meting.dagcal\",\n",
    "            \"\",\n",
    "        ],\n",
    "        [\n",
    "            -9999,\n",
    "            \"Verdamping\",\n",
    "            \"FEWS\",\n",
    "            np.nan,\n",
    "            \"meteo_meetstation_KNMI|ImportCAW|66002_VerdampingCAL|E.metingcal\",\n",
    "            \"\",\n",
    "        ],\n",
    "    ],\n",
    ")\n",
    "df"
   ]
  },
  {
   "cell_type": "markdown",
   "metadata": {},
   "source": [
    "Use `wb.timeseries.get_fews_series()` to load data from FEWS database (you need to have access to a FEWS database for this)."
   ]
  },
  {
   "cell_type": "code",
   "execution_count": 7,
   "metadata": {},
   "outputs": [
    {
     "name": "stdout",
     "output_type": "stream",
     "text": [
      "Failed on 'meteo_meetstation_KNMI|ImportCAW|66005cal|P.meting.dagcal'. Check if FEWS database is running!\n",
      "HTTPConnectionPool(host='localhost', port=8080): Max retries exceeded with url: /FewsWebServices/fewspiservice?wsdl (Caused by NewConnectionError('<urllib3.connection.HTTPConnection object at 0x7dcb96ba2710>: Failed to establish a new connection: [Errno 111] Connection refused'))\n",
      "Failed on 'meteo_meetstation_KNMI|ImportCAW|66002_VerdampingCAL|E.metingcal'. Check if FEWS database is running!\n",
      "HTTPConnectionPool(host='localhost', port=8080): Max retries exceeded with url: /FewsWebServices/fewspiservice?wsdl (Caused by NewConnectionError('<urllib3.connection.HTTPConnection object at 0x7dcb96be9d10>: Failed to establish a new connection: [Errno 111] Connection refused'))\n"
     ]
    }
   ],
   "source": [
    "series = []\n",
    "for fewsid in df.WaardeAlfa:\n",
    "    try:\n",
    "        ts = wb.timeseries.get_fews_series(fewsid, tmin=\"1995-12-31\", tmax=\"2019-01-01\")\n",
    "        series.append(ts)\n",
    "    except Exception as e:\n",
    "        print(\"Failed on '{}'. Check if FEWS database is running!\".format(fewsid))\n",
    "        print(e)"
   ]
  },
  {
   "cell_type": "markdown",
   "metadata": {},
   "source": [
    "Plot the timeseries:\n",
    "\n",
    "(Note that there is apparently no evaporation coming out of the FEWS database after 2010 for some reason.)"
   ]
  },
  {
   "cell_type": "code",
   "execution_count": 8,
   "metadata": {},
   "outputs": [],
   "source": [
    "if series:\n",
    "    ax = series[0].value.plot()\n",
    "    series[1].value.plot(ax=ax)"
   ]
  },
  {
   "cell_type": "markdown",
   "metadata": {},
   "source": [
    "### [KNMI (currently not working! 2024-11-04)](#top)<a id=\"1.1\"></a>\n",
    "\n",
    "Another timeseries type is KNMI, which can only be used for precipitation and evaporation. When the ParamType is set to KNMI, the module will attempt to download the timeseries for the station number provided in Waarde.\n",
    "\n",
    "<div class=\"alert alert-block alert-warning\">\n",
    "<b>Warning</b>: This is currently broken since Pastas does not support reading/downloading KNMI data. We need to switch to hydropandas. See issue <a href=https://github.com/ArtesiaWater/waterbalans/issues/46>#46</a> on GitHub.\n",
    "</div>"
   ]
  },
  {
   "cell_type": "raw",
   "metadata": {
    "vscode": {
     "languageId": "raw"
    }
   },
   "source": [
    "df = pd.DataFrame(\n",
    "    columns=[\"BakjeID\", \"ClusterType\", \"ParamType\", \"Waarde\", \"WaardeAlfa\", \"StartDag\"],\n",
    "    index=[0, 1],\n",
    "    data=[[1, \"Neerslag\", \"KNMI\", 240, \"\", \"\"], [1, \"Verdamping\", \"KNMI\", 260, \"\", \"\"]],\n",
    ")\n",
    "df"
   ]
  },
  {
   "cell_type": "markdown",
   "metadata": {},
   "source": [
    "Using `wb.timeseries.get_series` to download the KNMI data:"
   ]
  },
  {
   "cell_type": "raw",
   "metadata": {
    "vscode": {
     "languageId": "raw"
    }
   },
   "source": [
    "s = wb.timeseries.get_series(\n",
    "    \"Neerslag\", \"KNMI\", df.iloc[[0]], tmin=\"2017-01-01\", tmax=\"2019-01-01\"\n",
    ")"
   ]
  },
  {
   "cell_type": "raw",
   "metadata": {
    "vscode": {
     "languageId": "raw"
    }
   },
   "source": [
    "s.plot()"
   ]
  },
  {
   "cell_type": "markdown",
   "metadata": {},
   "source": [
    "### [Local CSV](#top)<a id=\"1.1\"></a>\n",
    "\n",
    "The Local timeseries is a reference to a locally stored timeseries. This type\n",
    "can be seen in the CSV files exported from the database."
   ]
  },
  {
   "cell_type": "markdown",
   "metadata": {},
   "source": [
    "<hr>\n",
    "\n",
    "## [Methods for adding Timeseries](#top)<a id=\"2\"></a>\n",
    "\n",
    "There are several methods to add timeseries to an EAG or GAF object. These are described below\n",
    "\n",
    "### [`add_series_from_database()`](#top)<a id=\"2.1\"></a>\n",
    "\n",
    "This method is used to parse the CSV file that is exported from the database that contains all of the information about timeseries to add to the EAG. \n",
    "\n",
    "Let's take a look at the docstring for this method:"
   ]
  },
  {
   "cell_type": "code",
   "execution_count": 9,
   "metadata": {},
   "outputs": [
    {
     "name": "stdout",
     "output_type": "stream",
     "text": [
      "Help on function add_series_from_database in module waterbalans.eag:\n",
      "\n",
      "add_series_from_database(self, series, tmin, tmax, freq='D', fillna=False, method='append')\n",
      "    Method to add timeseries based on a DataFrame containing information\n",
      "    about the series. Series are described by one or more rows in the\n",
      "    DataFrame with at least the following columns:\n",
      "    \n",
      "     - Bucket ID: ID of the bucket the series should be added to\n",
      "     - SeriesType (unfortunately called ParamType at the moment): Origin or Type\n",
      "       of the Series: e.g. FEWS, KNMI, Local, ValueSeries, Constant\n",
      "     - ClusterType: Name of the parameter\n",
      "    \n",
      "    Parameters\n",
      "    ----------\n",
      "    series: pandas.DataFrame\n",
      "    tmin: str or pandas.Timestamp, optional\n",
      "    tmax: str or pandas.Timestamp, optional\n",
      "    freq: str\n",
      "    \n",
      "    Notes\n",
      "    -----\n",
      "    \n",
      "    Examples\n",
      "    --------\n",
      "    series = pd.read_csv(\"data\\reeks_16088_2501-EAG-1.csv\", delimiter=\";\",\n",
      "                  decimal=\",\")\n",
      "    eag.add_series_from_database(series)\n",
      "\n"
     ]
    }
   ],
   "source": [
    "help(wb.Eag.add_series_from_database)"
   ]
  },
  {
   "cell_type": "markdown",
   "metadata": {},
   "source": [
    "This method basically combines the different strategies we used above to explore the different types of timeseries to parse a full DataFrame and add the series to the EAG or the specific Buckets. \n",
    "\n",
    "Where this timeseries ends up is defined by the `BakjeID` column of the DataFrame. \n",
    "- Entering the ID of specific bucket will add the timeseries to that buckets `Bucket.series` attribute. \n",
    "- Entering -9999 as the `BakjeID` will add the series to the `Eag.series` attribute.\n",
    "\n",
    "Let's see this function in action by running a random Eag."
   ]
  },
  {
   "cell_type": "code",
   "execution_count": 10,
   "metadata": {},
   "outputs": [
    {
     "name": "stderr",
     "output_type": "stream",
     "text": [
      "2024-11-04 17:03:11,247 | create_eag - INFO : Creating EAG object for '2250-EAG-2'\n",
      "2024-11-04 17:03:11,258 | add_series_from_database - INFO : Parsing timeseries from database export and adding to EAG.\n",
      "2024-11-04 17:03:11,263 | get_series - INFO : Adding Local timeseries 'Neerslag' for Bucket '-9999'.\n",
      "2024-11-04 17:03:11,264 | get_series - INFO : Adding Local timeseries 'Uitlaat4' for Bucket '-9999'.\n",
      "2024-11-04 17:03:11,265 | get_series - INFO : Adding Local timeseries 'Gemaal1Debiet Pomp 1' for Bucket '-9999'.\n",
      "2024-11-04 17:03:11,267 | get_series - INFO : Adding Local timeseries 'Gemaal1Debiet Pomp 2' for Bucket '-9999'.\n",
      "2024-11-04 17:03:11,269 | get_series - INFO : Adding Local timeseries 'Peil' for Bucket '-9999'.\n",
      "2024-11-04 17:03:11,270 | get_series - INFO : Adding Local timeseries 'Gemaal2Debiet Pomp 2' for Bucket '-9999'.\n",
      "2024-11-04 17:03:11,271 | get_series - INFO : Adding Local timeseries 'Gemaal3Debiet Pomp 2' for Bucket '-9999'.\n",
      "2024-11-04 17:03:11,272 | get_series - INFO : Adding Local timeseries 'Gemaal3Debiet Pomp 1' for Bucket '-9999'.\n",
      "2024-11-04 17:03:11,273 | get_series - INFO : Adding Local timeseries 'Gemaal2Debiet Pomp 1' for Bucket '-9999'.\n",
      "2024-11-04 17:03:11,274 | get_series - INFO : Adding Local timeseries 'Uitlaat2' for Bucket '-9999'.\n",
      "2024-11-04 17:03:11,275 | get_series - INFO : Adding Local timeseries 'Uitlaat3' for Bucket '-9999'.\n",
      "2024-11-04 17:03:11,275 | get_series - INFO : Adding Local timeseries 'Verdamping' for Bucket '-9999'.\n",
      "2024-11-04 17:03:11,276 | get_series - INFO : Adding Local timeseries 'Uitlaat1' for Bucket '-9999'.\n",
      "2024-11-04 17:03:11,277 | get_series - INFO : Adding Local timeseries 'Inlaat4' for Bucket '-9999'.\n",
      "2024-11-04 17:03:11,278 | get_series - INFO : Adding Local timeseries 'Inlaat3' for Bucket '-9999'.\n",
      "2024-11-04 17:03:11,279 | get_series - INFO : Adding Local timeseries 'Inlaat2' for Bucket '-9999'.\n",
      "2024-11-04 17:03:11,281 | get_series - INFO : Adding Local timeseries 'Inlaat1' for Bucket '-9999'.\n",
      "2024-11-04 17:03:11,284 | get_series - WARNING : Pi service cannot be started. Module will not import series from FEWS!\n",
      "2024-11-04 17:03:11,285 | get_series - WARNING : Adding series 'Gemaal1Debiet Pomp 1' of kind 'FEWS' not supported.\n",
      "2024-11-04 17:03:11,288 | get_series - WARNING : Pi service cannot be started. Module will not import series from FEWS!\n",
      "2024-11-04 17:03:11,289 | get_series - WARNING : Adding series 'Neerslag' of kind 'FEWS' not supported.\n",
      "2024-11-04 17:03:11,294 | get_series - WARNING : Pi service cannot be started. Module will not import series from FEWS!\n",
      "2024-11-04 17:03:11,294 | get_series - WARNING : Adding series 'Peil' of kind 'FEWS' not supported.\n",
      "2024-11-04 17:03:11,298 | get_series - WARNING : Pi service cannot be started. Module will not import series from FEWS!\n",
      "2024-11-04 17:03:11,299 | get_series - WARNING : Adding series 'Verdamping' of kind 'FEWS' not supported.\n",
      "2024-11-04 17:03:11,300 | get_series - INFO : Get Constant timeseries 'Qkwel' for Bucket '85000283'.\n",
      "2024-11-04 17:03:11,303 | get_series - INFO : Get Constant timeseries 'Qwegz' for Bucket '85000000'.\n",
      "2024-11-04 17:03:11,305 | get_series - INFO : Get Constant timeseries 'Qkwel' for Bucket '85000000'.\n",
      "2024-11-04 17:03:11,306 | get_series - INFO : Get Constant timeseries 'Qkwel' for Bucket '85000289'.\n",
      "2024-11-04 17:03:11,308 | get_series - INFO : Get Constant timeseries 'Qkwel' for Bucket '85000288'.\n",
      "2024-11-04 17:03:11,309 | get_series - INFO : Get Constant timeseries 'Qkwel' for Bucket '85000284'.\n",
      "2024-11-04 17:03:11,311 | get_series - INFO : Get Constant timeseries 'Qkwel' for Bucket '85000282'.\n",
      "2024-11-04 17:03:11,314 | add_timeseries - INFO : Adding timeseries 'Gemaal1' to EAG manually\n",
      "2024-11-04 17:03:11,315 | add_timeseries - INFO : Filled 2187 NaN-values with '0.0' in series Gemaal1.\n",
      "2024-11-04 17:03:11,331 | add_timeseries - INFO : Adding timeseries 'Peil' to EAG manually\n",
      "2024-11-04 17:03:11,333 | add_timeseries - INFO : Filled 1629 NaN-values with 'ffill' in series Peil.\n",
      "2024-11-04 17:03:11,406 | add_timeseries - INFO : Adding timeseries 'q_cso' to EAG manually\n",
      "2024-11-04 17:03:11,407 | add_timeseries - INFO : Filled 1572 NaN-values with '0.0' in series q_cso.\n",
      "2024-11-04 17:03:11,420 | add_timeseries - INFO : Adding timeseries 'Neerslag' to EAG manually\n",
      "2024-11-04 17:03:11,421 | add_timeseries - INFO : Filled 1 NaN-values with '0.0' in series Neerslag.\n",
      "2024-11-04 17:03:11,433 | add_timeseries - INFO : Adding timeseries 'Verdamping' to EAG manually\n",
      "2024-11-04 17:03:11,444 | simulate - INFO : Simulating: 2250-EAG-2...\n",
      "2024-11-04 17:03:11,446 | simulate - INFO : Simulating the waterbalance for bucket: Verhard 85000282\n",
      "2024-11-04 17:03:12,488 | simulate - INFO : Simulating the waterbalance for bucket: Onverhard 85000283\n",
      "2024-11-04 17:03:12,745 | simulate - INFO : Simulating the waterbalance for bucket: Drain 85000284\n",
      "2024-11-04 17:03:13,158 | simulate - INFO : Simulating the waterbalance for bucket: Onverhard 85000288\n",
      "2024-11-04 17:03:13,163 | simulate - INFO : Simulating the waterbalance for bucket: Drain 85000289\n",
      "2024-11-04 17:03:13,171 | simulate - INFO : Simulating the waterbalance for bucket: Water 85000000\n",
      "2024-11-04 17:03:13,176 | simulate - INFO : Using observed waterlevels in simulation!\n",
      "2024-11-04 17:03:13,176 | simulate - WARNING : 'QInMax_1' is equal to 0. Assuming this means there is no limit to inflow.\n",
      "2024-11-04 17:03:13,176 | simulate - WARNING : 'QOutMax_1' is equal to 0. Assuming this means there is no limit to outflow.\n",
      "/home/david/github/waterbalans/waterbalans/utils.py:53: RuntimeWarning: divide by zero encountered in divide\n",
      "  penman = 1.0 / np.array(\n",
      "2024-11-04 17:03:13,477 | simulate - INFO : Simulation succesfully completed in 2.0s.\n"
     ]
    }
   ],
   "source": [
    "e = wb.run_eag_by_name(\"2250-EAG-2\", csvdir=\"../../data/input_csv\")"
   ]
  },
  {
   "cell_type": "markdown",
   "metadata": {},
   "source": [
    "Note the following section of the information printed to the console, which shows what this function is doing:\n",
    "```\n",
    "2019-07-19 16:51:58,128 | add_series_from_database - INFO : Parsing timeseries from database export and adding to EAG.\n",
    "2019-07-19 16:52:00,035 | get_series - INFO : Adding FEWS timeseries 'Gemaal1Debiet Pomp 1': polder|Pompvolumes|60151_pomp_1|Vol.berekend.dag.\n",
    "2019-07-19 16:52:01,506 | get_series - INFO : Adding FEWS timeseries 'Neerslag': meteo_meetstation_KNMI|ImportCAW|66005cal|P.meting.dagcal.\n",
    "2019-07-19 16:52:02,874 | get_series - INFO : Adding FEWS timeseries 'Peil': polder|Statistiek|60151_onderbemaling|H.meting.gem.\n",
    "2019-07-19 16:52:03,773 | get_series - INFO : Adding FEWS timeseries 'Verdamping': meteo_meetstation_KNMI|ImportCAW|66002_VerdampingCAL|E.metingcal.\n",
    "```"
   ]
  },
  {
   "cell_type": "markdown",
   "metadata": {},
   "source": [
    "### [`add_timeseries()`](#top)<a id=\"2.2\"></a>\n",
    "\n",
    "The `add_timeseries()` method is used to manually add timeseries to the Eag object. Timeseries can only be added to the Eag itself and not to the individual buckets.\n",
    "\n",
    "Additionally, this function contains some options on how to deal with NaNs in the data."
   ]
  },
  {
   "cell_type": "code",
   "execution_count": 11,
   "metadata": {},
   "outputs": [
    {
     "name": "stdout",
     "output_type": "stream",
     "text": [
      "Help on function add_timeseries in module waterbalans.eag:\n",
      "\n",
      "add_timeseries(self, series, name=None, tmin=None, tmax=None, freq='D', fillna=False, method=None)\n",
      "    Method to add series directly to EAG. Series must contain volumes\n",
      "    (so not divided by area). Series must be negative for water taken out\n",
      "    of the EAG and positive for water coming into the EAG.\n",
      "    \n",
      "    Parameters\n",
      "    ----------\n",
      "    series: pandas.DataFrame or pandas.Series\n",
      "    name: str, default None\n",
      "        name of series to add, if not provided uses\n",
      "        first column name in DataFrame or Series name\n",
      "    tmin: str or pandas.Timestamp, optional\n",
      "        start time for series to add to Eag\n",
      "    tmax: str or pandas.Timestamp, optional\n",
      "        end time for series to add to Eag\n",
      "    freq: str, optional\n",
      "        timestep of the series, should generally be left alone\n",
      "    fillna: bool, default False\n",
      "        if False, do not fill NaNs, if True fill NaNs according to method\n",
      "    method: str or float\n",
      "        if str (i.e. 'ffill') use this method to fill Nans, if float, use\n",
      "        this value to fill in the NaNs (i.e. 0.0)\n",
      "\n"
     ]
    }
   ],
   "source": [
    "help(wb.Eag.add_timeseries)"
   ]
  },
  {
   "cell_type": "markdown",
   "metadata": {},
   "source": [
    "As the docstring shows, the NaNs can be filled by specifying a method (i.e. ffill, bfill, etc.) or passing a value which will be used to fill in the Nans.\n",
    "\n",
    "From our earlier Eag simulation we can see the following output in the log pertaining to the `add_timeseries()` method:\n",
    "```\n",
    "2019-07-19 16:52:04,202 | add_timeseries - INFO : Adding timeseries 'Gemaal1' to EAG manually\n",
    "2019-07-19 16:52:04,204 | add_timeseries - INFO : Filled 2187 NaN-values with '0.0' in series Gemaal1.\n",
    "2019-07-19 16:52:04,211 | add_timeseries - INFO : Adding timeseries 'Peil' to EAG manually\n",
    "2019-07-19 16:52:04,212 | add_timeseries - WARNING : Series Peil already present in EAG, overwriting data where not NaN!\n",
    "2019-07-19 16:52:04,219 | add_timeseries - INFO : Adding timeseries 'q_cso' to EAG manually\n",
    "2019-07-19 16:52:04,222 | add_timeseries - INFO : Filled 1572 NaN-values with '0.0' in series q_cso.\n",
    "2019-07-19 16:52:04,231 | add_timeseries - INFO : Adding timeseries 'Neerslag' to EAG manually\n",
    "2019-07-19 16:52:04,232 | add_timeseries - WARNING : Series Neerslag already present in EAG, overwriting data where not NaN!\n",
    "2019-07-19 16:52:04,243 | add_timeseries - INFO : Adding timeseries 'Verdamping' to EAG manually\n",
    "2019-07-19 16:52:04,245 | add_timeseries - WARNING : Series Verdamping already present in EAG, overwriting data where not NaN!\n",
    "```\n",
    "\n",
    "Note the warning that is given when a timeseries with the same name is already present in the Eag object. In this case, the series present in the Eag is updated with the values from the new series. If the new series contains NaNs, the value of the old series is kept."
   ]
  },
  {
   "cell_type": "markdown",
   "metadata": {},
   "source": [
    "### [`wb.utils.add_timeseries_to_obj()`](#top)<a id=\"2.3\"></a>\n",
    "\n",
    "This method is used to parse a DataFrame with timeseries data (one column per series) and add each series to the Eag object. It essentially wraps the previous `e.add_timeseries` method and deduces some information from the column names. \n",
    "- if `data_from_excel=False` (default option) the column names are assumed to be of the form `Name<#>|description`. In this case the name is used to determine how to parse the timeseries and add it to the Eag object.\n",
    "- if `data_from_excel=True` the data must be identical to the data in the `uitgangspunten` sheet in the Excel balances (No columns can be removed and the order must be preserved). The column names are not used as the function knows the exact order the columns."
   ]
  },
  {
   "cell_type": "code",
   "execution_count": 12,
   "metadata": {},
   "outputs": [
    {
     "name": "stdout",
     "output_type": "stream",
     "text": [
      "Help on function add_timeseries_to_obj in module waterbalans.utils:\n",
      "\n",
      "add_timeseries_to_obj(eag_or_gaf, df, tmin=None, tmax=None, overwrite=False, data_from_excel=False)\n",
      "    Add timeseries to EAG or GAF. Only parses column names starting with\n",
      "    'Neerslag', 'Verdamping', 'Inlaat', 'Uitlaat', 'Peil', or 'Gemaal'.\n",
      "    \n",
      "    Parameters\n",
      "    ----------\n",
      "    eag_or_gaf : waterbalans.Eag or waterbalans.Gaf\n",
      "        An existing Eag or Gaf object\n",
      "    df : pandas.DataFrame\n",
      "        DataFrame with DateTimeIndex containing series to be added\n",
      "    tmin : pandas.TimeStamp, optional\n",
      "        start time for added series (the default is None, which\n",
      "        attempts to pick up tmin from existing Eag or Gaf object)\n",
      "    tmax : pandas.TimeStamp, optional\n",
      "        end time for added series (the default is None, which\n",
      "        attempts to pick up tmax from existing Eag or Gaf object)\n",
      "    overwrite : bool, optional\n",
      "        overwrite series if name already exists in Eag or Gaf object (the default is False)\n",
      "    data_from_excel: bool, optional\n",
      "        if True, assumes data source is Excel Balance 'uitgangspunten' sheet.\n",
      "        Function will make an assumption about the column names and order and\n",
      "        disregards column names of the passed DataFrame. If False uses DataFrame\n",
      "        column names (default).\n",
      "\n"
     ]
    }
   ],
   "source": [
    "help(wb.utils.add_timeseries_to_obj)"
   ]
  },
  {
   "cell_type": "markdown",
   "metadata": {},
   "source": [
    "Load the data from the `uitgangspunten` sheet (stored as a zipped pickle for quick reading). "
   ]
  },
  {
   "cell_type": "code",
   "execution_count": 13,
   "metadata": {},
   "outputs": [],
   "source": [
    "series = wb.utils.get_extra_series_from_pickle(\n",
    "    \"../../data/excel_pklz/2250-EAG-2_series.pklz\"\n",
    ")"
   ]
  },
  {
   "cell_type": "code",
   "execution_count": 14,
   "metadata": {},
   "outputs": [
    {
     "data": {
      "text/html": [
       "<div>\n",
       "<style scoped>\n",
       "    .dataframe tbody tr th:only-of-type {\n",
       "        vertical-align: middle;\n",
       "    }\n",
       "\n",
       "    .dataframe tbody tr th {\n",
       "        vertical-align: top;\n",
       "    }\n",
       "\n",
       "    .dataframe thead th {\n",
       "        text-align: right;\n",
       "    }\n",
       "</style>\n",
       "<table border=\"1\" class=\"dataframe\">\n",
       "  <thead>\n",
       "    <tr style=\"text-align: right;\">\n",
       "      <th></th>\n",
       "      <th>neerslag\\nAbcoude</th>\n",
       "      <th>verdamping\\nSchiphol</th>\n",
       "      <th>peil</th>\n",
       "      <th>pomp1</th>\n",
       "      <th>pomp2 Diesel</th>\n",
       "      <th>gemaal2 \\npomp1</th>\n",
       "      <th>gemaal2 \\npomp2</th>\n",
       "      <th>Inlaat\\nvoor calibratie</th>\n",
       "      <th>gemengd gerioleerd stelsel\\nm3/d/ha</th>\n",
       "      <th>Hoge dijk</th>\n",
       "      <th>Oudekerkerplas</th>\n",
       "      <th>inlaat3</th>\n",
       "      <th>inlaat4</th>\n",
       "      <th>Uitlaat 1</th>\n",
       "      <th>Uitlaat 2</th>\n",
       "      <th>Uitlaat 3</th>\n",
       "      <th>Uitlaat 4</th>\n",
       "      <th>immissie2\\nCl</th>\n",
       "      <th>immissie3\\nCl</th>\n",
       "      <th>immissie4\\nCl bron</th>\n",
       "    </tr>\n",
       "    <tr>\n",
       "      <th>datetime</th>\n",
       "      <th></th>\n",
       "      <th></th>\n",
       "      <th></th>\n",
       "      <th></th>\n",
       "      <th></th>\n",
       "      <th></th>\n",
       "      <th></th>\n",
       "      <th></th>\n",
       "      <th></th>\n",
       "      <th></th>\n",
       "      <th></th>\n",
       "      <th></th>\n",
       "      <th></th>\n",
       "      <th></th>\n",
       "      <th></th>\n",
       "      <th></th>\n",
       "      <th></th>\n",
       "      <th></th>\n",
       "      <th></th>\n",
       "      <th></th>\n",
       "    </tr>\n",
       "  </thead>\n",
       "  <tbody>\n",
       "    <tr>\n",
       "      <th>1996-01-01</th>\n",
       "      <td>0.0</td>\n",
       "      <td>0.1</td>\n",
       "      <td>-4.75</td>\n",
       "      <td>14514.5</td>\n",
       "      <td>0.0</td>\n",
       "      <td>NaN</td>\n",
       "      <td>NaN</td>\n",
       "      <td>NaN</td>\n",
       "      <td>0.0</td>\n",
       "      <td>NaN</td>\n",
       "      <td>NaN</td>\n",
       "      <td>NaN</td>\n",
       "      <td>NaN</td>\n",
       "      <td>NaN</td>\n",
       "      <td>NaN</td>\n",
       "      <td>NaN</td>\n",
       "      <td>NaN</td>\n",
       "      <td>NaN</td>\n",
       "      <td>NaN</td>\n",
       "      <td>NaN</td>\n",
       "    </tr>\n",
       "    <tr>\n",
       "      <th>1996-01-02</th>\n",
       "      <td>0.1</td>\n",
       "      <td>0.2</td>\n",
       "      <td>-4.75</td>\n",
       "      <td>13783.0</td>\n",
       "      <td>0.0</td>\n",
       "      <td>NaN</td>\n",
       "      <td>NaN</td>\n",
       "      <td>NaN</td>\n",
       "      <td>0.0</td>\n",
       "      <td>NaN</td>\n",
       "      <td>NaN</td>\n",
       "      <td>NaN</td>\n",
       "      <td>NaN</td>\n",
       "      <td>NaN</td>\n",
       "      <td>NaN</td>\n",
       "      <td>NaN</td>\n",
       "      <td>NaN</td>\n",
       "      <td>NaN</td>\n",
       "      <td>NaN</td>\n",
       "      <td>NaN</td>\n",
       "    </tr>\n",
       "    <tr>\n",
       "      <th>1996-01-03</th>\n",
       "      <td>0.0</td>\n",
       "      <td>0.3</td>\n",
       "      <td>-4.75</td>\n",
       "      <td>12127.5</td>\n",
       "      <td>0.0</td>\n",
       "      <td>NaN</td>\n",
       "      <td>NaN</td>\n",
       "      <td>NaN</td>\n",
       "      <td>0.0</td>\n",
       "      <td>NaN</td>\n",
       "      <td>NaN</td>\n",
       "      <td>NaN</td>\n",
       "      <td>NaN</td>\n",
       "      <td>NaN</td>\n",
       "      <td>NaN</td>\n",
       "      <td>NaN</td>\n",
       "      <td>NaN</td>\n",
       "      <td>NaN</td>\n",
       "      <td>NaN</td>\n",
       "      <td>NaN</td>\n",
       "    </tr>\n",
       "    <tr>\n",
       "      <th>1996-01-04</th>\n",
       "      <td>0.0</td>\n",
       "      <td>0.3</td>\n",
       "      <td>-4.75</td>\n",
       "      <td>11973.5</td>\n",
       "      <td>0.0</td>\n",
       "      <td>NaN</td>\n",
       "      <td>NaN</td>\n",
       "      <td>NaN</td>\n",
       "      <td>0.0</td>\n",
       "      <td>NaN</td>\n",
       "      <td>NaN</td>\n",
       "      <td>NaN</td>\n",
       "      <td>NaN</td>\n",
       "      <td>NaN</td>\n",
       "      <td>NaN</td>\n",
       "      <td>NaN</td>\n",
       "      <td>NaN</td>\n",
       "      <td>NaN</td>\n",
       "      <td>NaN</td>\n",
       "      <td>NaN</td>\n",
       "    </tr>\n",
       "    <tr>\n",
       "      <th>1996-01-05</th>\n",
       "      <td>0.0</td>\n",
       "      <td>0.3</td>\n",
       "      <td>-4.75</td>\n",
       "      <td>8816.5</td>\n",
       "      <td>0.0</td>\n",
       "      <td>NaN</td>\n",
       "      <td>NaN</td>\n",
       "      <td>NaN</td>\n",
       "      <td>0.0</td>\n",
       "      <td>NaN</td>\n",
       "      <td>NaN</td>\n",
       "      <td>NaN</td>\n",
       "      <td>NaN</td>\n",
       "      <td>NaN</td>\n",
       "      <td>NaN</td>\n",
       "      <td>NaN</td>\n",
       "      <td>NaN</td>\n",
       "      <td>NaN</td>\n",
       "      <td>NaN</td>\n",
       "      <td>NaN</td>\n",
       "    </tr>\n",
       "    <tr>\n",
       "      <th>...</th>\n",
       "      <td>...</td>\n",
       "      <td>...</td>\n",
       "      <td>...</td>\n",
       "      <td>...</td>\n",
       "      <td>...</td>\n",
       "      <td>...</td>\n",
       "      <td>...</td>\n",
       "      <td>...</td>\n",
       "      <td>...</td>\n",
       "      <td>...</td>\n",
       "      <td>...</td>\n",
       "      <td>...</td>\n",
       "      <td>...</td>\n",
       "      <td>...</td>\n",
       "      <td>...</td>\n",
       "      <td>...</td>\n",
       "      <td>...</td>\n",
       "      <td>...</td>\n",
       "      <td>...</td>\n",
       "      <td>...</td>\n",
       "    </tr>\n",
       "    <tr>\n",
       "      <th>2014-12-27</th>\n",
       "      <td>NaN</td>\n",
       "      <td>NaN</td>\n",
       "      <td>NaN</td>\n",
       "      <td>NaN</td>\n",
       "      <td>NaN</td>\n",
       "      <td>NaN</td>\n",
       "      <td>NaN</td>\n",
       "      <td>NaN</td>\n",
       "      <td>NaN</td>\n",
       "      <td>NaN</td>\n",
       "      <td>NaN</td>\n",
       "      <td>NaN</td>\n",
       "      <td>NaN</td>\n",
       "      <td>NaN</td>\n",
       "      <td>NaN</td>\n",
       "      <td>NaN</td>\n",
       "      <td>NaN</td>\n",
       "      <td>NaN</td>\n",
       "      <td>NaN</td>\n",
       "      <td>NaN</td>\n",
       "    </tr>\n",
       "    <tr>\n",
       "      <th>2014-12-28</th>\n",
       "      <td>NaN</td>\n",
       "      <td>NaN</td>\n",
       "      <td>NaN</td>\n",
       "      <td>NaN</td>\n",
       "      <td>NaN</td>\n",
       "      <td>NaN</td>\n",
       "      <td>NaN</td>\n",
       "      <td>NaN</td>\n",
       "      <td>NaN</td>\n",
       "      <td>NaN</td>\n",
       "      <td>NaN</td>\n",
       "      <td>NaN</td>\n",
       "      <td>NaN</td>\n",
       "      <td>NaN</td>\n",
       "      <td>NaN</td>\n",
       "      <td>NaN</td>\n",
       "      <td>NaN</td>\n",
       "      <td>NaN</td>\n",
       "      <td>NaN</td>\n",
       "      <td>NaN</td>\n",
       "    </tr>\n",
       "    <tr>\n",
       "      <th>2014-12-29</th>\n",
       "      <td>NaN</td>\n",
       "      <td>NaN</td>\n",
       "      <td>NaN</td>\n",
       "      <td>NaN</td>\n",
       "      <td>NaN</td>\n",
       "      <td>NaN</td>\n",
       "      <td>NaN</td>\n",
       "      <td>NaN</td>\n",
       "      <td>NaN</td>\n",
       "      <td>NaN</td>\n",
       "      <td>NaN</td>\n",
       "      <td>NaN</td>\n",
       "      <td>NaN</td>\n",
       "      <td>NaN</td>\n",
       "      <td>NaN</td>\n",
       "      <td>NaN</td>\n",
       "      <td>NaN</td>\n",
       "      <td>NaN</td>\n",
       "      <td>NaN</td>\n",
       "      <td>NaN</td>\n",
       "    </tr>\n",
       "    <tr>\n",
       "      <th>2014-12-30</th>\n",
       "      <td>NaN</td>\n",
       "      <td>NaN</td>\n",
       "      <td>NaN</td>\n",
       "      <td>NaN</td>\n",
       "      <td>NaN</td>\n",
       "      <td>NaN</td>\n",
       "      <td>NaN</td>\n",
       "      <td>NaN</td>\n",
       "      <td>NaN</td>\n",
       "      <td>NaN</td>\n",
       "      <td>NaN</td>\n",
       "      <td>NaN</td>\n",
       "      <td>NaN</td>\n",
       "      <td>NaN</td>\n",
       "      <td>NaN</td>\n",
       "      <td>NaN</td>\n",
       "      <td>NaN</td>\n",
       "      <td>NaN</td>\n",
       "      <td>NaN</td>\n",
       "      <td>NaN</td>\n",
       "    </tr>\n",
       "    <tr>\n",
       "      <th>2014-12-31</th>\n",
       "      <td>NaN</td>\n",
       "      <td>NaN</td>\n",
       "      <td>NaN</td>\n",
       "      <td>NaN</td>\n",
       "      <td>NaN</td>\n",
       "      <td>NaN</td>\n",
       "      <td>NaN</td>\n",
       "      <td>NaN</td>\n",
       "      <td>NaN</td>\n",
       "      <td>NaN</td>\n",
       "      <td>NaN</td>\n",
       "      <td>NaN</td>\n",
       "      <td>NaN</td>\n",
       "      <td>NaN</td>\n",
       "      <td>NaN</td>\n",
       "      <td>NaN</td>\n",
       "      <td>NaN</td>\n",
       "      <td>NaN</td>\n",
       "      <td>NaN</td>\n",
       "      <td>NaN</td>\n",
       "    </tr>\n",
       "  </tbody>\n",
       "</table>\n",
       "<p>6940 rows × 20 columns</p>\n",
       "</div>"
      ],
      "text/plain": [
       "            neerslag\\nAbcoude  verdamping\\nSchiphol  peil    pomp1  \\\n",
       "datetime                                                             \n",
       "1996-01-01                0.0                   0.1 -4.75  14514.5   \n",
       "1996-01-02                0.1                   0.2 -4.75  13783.0   \n",
       "1996-01-03                0.0                   0.3 -4.75  12127.5   \n",
       "1996-01-04                0.0                   0.3 -4.75  11973.5   \n",
       "1996-01-05                0.0                   0.3 -4.75   8816.5   \n",
       "...                       ...                   ...   ...      ...   \n",
       "2014-12-27                NaN                   NaN   NaN      NaN   \n",
       "2014-12-28                NaN                   NaN   NaN      NaN   \n",
       "2014-12-29                NaN                   NaN   NaN      NaN   \n",
       "2014-12-30                NaN                   NaN   NaN      NaN   \n",
       "2014-12-31                NaN                   NaN   NaN      NaN   \n",
       "\n",
       "            pomp2 Diesel  gemaal2 \\npomp1  gemaal2 \\npomp2  \\\n",
       "datetime                                                     \n",
       "1996-01-01           0.0              NaN              NaN   \n",
       "1996-01-02           0.0              NaN              NaN   \n",
       "1996-01-03           0.0              NaN              NaN   \n",
       "1996-01-04           0.0              NaN              NaN   \n",
       "1996-01-05           0.0              NaN              NaN   \n",
       "...                  ...              ...              ...   \n",
       "2014-12-27           NaN              NaN              NaN   \n",
       "2014-12-28           NaN              NaN              NaN   \n",
       "2014-12-29           NaN              NaN              NaN   \n",
       "2014-12-30           NaN              NaN              NaN   \n",
       "2014-12-31           NaN              NaN              NaN   \n",
       "\n",
       "            Inlaat\\nvoor calibratie  gemengd gerioleerd stelsel\\nm3/d/ha  \\\n",
       "datetime                                                                   \n",
       "1996-01-01                      NaN                                  0.0   \n",
       "1996-01-02                      NaN                                  0.0   \n",
       "1996-01-03                      NaN                                  0.0   \n",
       "1996-01-04                      NaN                                  0.0   \n",
       "1996-01-05                      NaN                                  0.0   \n",
       "...                             ...                                  ...   \n",
       "2014-12-27                      NaN                                  NaN   \n",
       "2014-12-28                      NaN                                  NaN   \n",
       "2014-12-29                      NaN                                  NaN   \n",
       "2014-12-30                      NaN                                  NaN   \n",
       "2014-12-31                      NaN                                  NaN   \n",
       "\n",
       "            Hoge dijk  Oudekerkerplas  inlaat3  inlaat4  Uitlaat 1  Uitlaat 2  \\\n",
       "datetime                                                                        \n",
       "1996-01-01        NaN             NaN      NaN      NaN        NaN        NaN   \n",
       "1996-01-02        NaN             NaN      NaN      NaN        NaN        NaN   \n",
       "1996-01-03        NaN             NaN      NaN      NaN        NaN        NaN   \n",
       "1996-01-04        NaN             NaN      NaN      NaN        NaN        NaN   \n",
       "1996-01-05        NaN             NaN      NaN      NaN        NaN        NaN   \n",
       "...               ...             ...      ...      ...        ...        ...   \n",
       "2014-12-27        NaN             NaN      NaN      NaN        NaN        NaN   \n",
       "2014-12-28        NaN             NaN      NaN      NaN        NaN        NaN   \n",
       "2014-12-29        NaN             NaN      NaN      NaN        NaN        NaN   \n",
       "2014-12-30        NaN             NaN      NaN      NaN        NaN        NaN   \n",
       "2014-12-31        NaN             NaN      NaN      NaN        NaN        NaN   \n",
       "\n",
       "            Uitlaat 3  Uitlaat 4  immissie2\\nCl    immissie3\\nCl   \\\n",
       "datetime                                                            \n",
       "1996-01-01        NaN        NaN              NaN             NaN   \n",
       "1996-01-02        NaN        NaN              NaN             NaN   \n",
       "1996-01-03        NaN        NaN              NaN             NaN   \n",
       "1996-01-04        NaN        NaN              NaN             NaN   \n",
       "1996-01-05        NaN        NaN              NaN             NaN   \n",
       "...               ...        ...              ...             ...   \n",
       "2014-12-27        NaN        NaN              NaN             NaN   \n",
       "2014-12-28        NaN        NaN              NaN             NaN   \n",
       "2014-12-29        NaN        NaN              NaN             NaN   \n",
       "2014-12-30        NaN        NaN              NaN             NaN   \n",
       "2014-12-31        NaN        NaN              NaN             NaN   \n",
       "\n",
       "            immissie4\\nCl bron  \n",
       "datetime                        \n",
       "1996-01-01                 NaN  \n",
       "1996-01-02                 NaN  \n",
       "1996-01-03                 NaN  \n",
       "1996-01-04                 NaN  \n",
       "1996-01-05                 NaN  \n",
       "...                        ...  \n",
       "2014-12-27                 NaN  \n",
       "2014-12-28                 NaN  \n",
       "2014-12-29                 NaN  \n",
       "2014-12-30                 NaN  \n",
       "2014-12-31                 NaN  \n",
       "\n",
       "[6940 rows x 20 columns]"
      ]
     },
     "execution_count": 14,
     "metadata": {},
     "output_type": "execute_result"
    }
   ],
   "source": [
    "series"
   ]
  },
  {
   "cell_type": "markdown",
   "metadata": {},
   "source": [
    "Add to our Eag object from earlier:"
   ]
  },
  {
   "cell_type": "code",
   "execution_count": 15,
   "metadata": {},
   "outputs": [
    {
     "name": "stderr",
     "output_type": "stream",
     "text": [
      "2024-11-04 17:03:13,636 | add_timeseries_to_obj - WARNING : 'gemaal2 \n",
      "pomp1' is empty. Continuing...\n",
      "2024-11-04 17:03:13,637 | add_timeseries_to_obj - WARNING : 'gemaal2 \n",
      "pomp2' is empty. Continuing...\n",
      "2024-11-04 17:03:13,638 | add_timeseries_to_obj - WARNING : 'Inlaat\n",
      "voor calibratie' is empty. Continuing...\n",
      "2024-11-04 17:03:13,639 | add_timeseries_to_obj - WARNING : 'inlaat3' is empty. Continuing...\n",
      "2024-11-04 17:03:13,640 | add_timeseries_to_obj - WARNING : 'inlaat4' is empty. Continuing...\n",
      "2024-11-04 17:03:13,641 | add_timeseries_to_obj - WARNING : 'Uitlaat 1' is empty. Continuing...\n",
      "2024-11-04 17:03:13,642 | add_timeseries_to_obj - WARNING : 'Uitlaat 2' is empty. Continuing...\n",
      "2024-11-04 17:03:13,643 | add_timeseries_to_obj - WARNING : 'Uitlaat 3' is empty. Continuing...\n"
     ]
    },
    {
     "name": "stderr",
     "output_type": "stream",
     "text": [
      "2024-11-04 17:03:13,643 | add_timeseries_to_obj - WARNING : 'Uitlaat 4' is empty. Continuing...\n",
      "2024-11-04 17:03:13,644 | add_timeseries - INFO : Adding timeseries 'Peil' to EAG manually\n",
      "2024-11-04 17:03:13,645 | add_timeseries - WARNING : Series Peil already present in EAG, overwriting data where not NaN!\n",
      "2024-11-04 17:03:13,649 | add_timeseries - INFO : Adding timeseries 'Neerslag' to EAG manually\n",
      "2024-11-04 17:03:13,650 | add_timeseries - WARNING : Series Neerslag already present in EAG, overwriting data where not NaN!\n",
      "2024-11-04 17:03:13,658 | add_timeseries - INFO : Adding timeseries 'Verdamping' to EAG manually\n",
      "2024-11-04 17:03:13,658 | add_timeseries - WARNING : Series Verdamping already present in EAG, overwriting data where not NaN!\n"
     ]
    }
   ],
   "source": [
    "wb.utils.add_timeseries_to_obj(e, series, overwrite=True, data_from_excel=False)"
   ]
  },
  {
   "cell_type": "markdown",
   "metadata": {},
   "source": [
    "## [Where are my timeseries?](#top)<a id=\"3\"></a>\n",
    "\n",
    "So where do the timeseries go when they are added to the Eag? These are the options when adding a Timeseries:\n",
    "- If a Bucket Id is specified they are added to the Bucket.series attribute\n",
    "- If no Bucket Id is specified (-9999) they are added to the Eag\n",
    "\n",
    "Once the simulation is run, timeseries get copied from the Eag to the relevant Buckets:\n",
    "- When the simulation is performed, each bucket picks up the series it requires from the Eag.series. Generally these are precipitation (Neerslag) and evaporation (Verdamping).\n",
    "- Eag series with name 'q_cso' is only used if there is MengRiool Bucket (combined sewer overflow bucket) and otherwise ignored.\n",
    "- Eag series with name 'Peil', 'Inlaat#', 'Uitlaat#' are all added to the Water bucket.\n",
    "- Eag series with name starting with 'Gemaal' are ignored in the simulation.\n",
    "- All left-over unrecognized series names are added to the Water bucket as external forcing.\n",
    "\n",
    "Let's take a look at the series in the Eag:"
   ]
  },
  {
   "cell_type": "code",
   "execution_count": 16,
   "metadata": {},
   "outputs": [
    {
     "data": {
      "text/plain": [
       "Index(['Gemaal1', 'Peil', 'q_cso', 'Neerslag', 'Verdamping'], dtype='object')"
      ]
     },
     "execution_count": 16,
     "metadata": {},
     "output_type": "execute_result"
    }
   ],
   "source": [
    "e.series.columns"
   ]
  },
  {
   "cell_type": "markdown",
   "metadata": {},
   "source": [
    "Let's take a look at the series in each bucket:"
   ]
  },
  {
   "cell_type": "code",
   "execution_count": 17,
   "metadata": {},
   "outputs": [
    {
     "name": "stdout",
     "output_type": "stream",
     "text": [
      "Verhard    85000282 ['Qkwel', 'Neerslag', 'Verdamping']\n",
      "Onverhard  85000283 ['Qkwel', 'Neerslag', 'Verdamping']\n",
      "Drain      85000284 ['Qkwel', 'Neerslag', 'Verdamping']\n",
      "Onverhard  85000288 ['Qkwel', 'Neerslag', 'Verdamping']\n",
      "Drain      85000289 ['Qkwel', 'Neerslag', 'Verdamping']\n"
     ]
    }
   ],
   "source": [
    "for b in e.get_buckets():\n",
    "    print(\"{0:<9s}  {1:>8d} {2}\".format(b.name, b.idn, list(b.series.columns)))\n"
   ]
  },
  {
   "cell_type": "markdown",
   "metadata": {},
   "source": [
    "And in the Water bucket (note that the 'q_cso' and 'gemaal' series were not added):"
   ]
  },
  {
   "cell_type": "code",
   "execution_count": 18,
   "metadata": {},
   "outputs": [
    {
     "data": {
      "text/plain": [
       "Index(['Qwegz', 'Qkwel', 'Neerslag', 'Verdamping'], dtype='object')"
      ]
     },
     "execution_count": 18,
     "metadata": {},
     "output_type": "execute_result"
    }
   ],
   "source": [
    "e.water.series.columns"
   ]
  },
  {
   "cell_type": "code",
   "execution_count": null,
   "metadata": {},
   "outputs": [],
   "source": []
  }
 ],
 "metadata": {
  "kernelspec": {
   "display_name": "waterbalans",
   "language": "python",
   "name": "python3"
  },
  "language_info": {
   "codemirror_mode": {
    "name": "ipython",
    "version": 3
   },
   "file_extension": ".py",
   "mimetype": "text/x-python",
   "name": "python",
   "nbconvert_exporter": "python",
   "pygments_lexer": "ipython3",
   "version": "3.11.10"
  }
 },
 "nbformat": 4,
 "nbformat_minor": 4
}
