{
 "cells": [
  {
   "cell_type": "markdown",
   "metadata": {},
   "source": [
    "# Timeseries<a id=\"top\"></a>\n",
    "\n",
    "_Developed by Davíd Brakenhoff (Artesia) on July 19, 2019_\n",
    "<hr>\n",
    "This notebook explains the different options concerning timeseries in the waterbalans module.\n",
    "\n",
    "## Contents\n",
    "\n",
    "- [Types of Timeseries](#1)\n",
    "    - [Constant](#1.1)\n",
    "    - [ValueSeries](#1.2)\n",
    "    - [FEWS](#1.3)\n",
    "    - [KNMI](#1.4)\n",
    "    - [Local (currently not implemented)](#1.5)\n",
    "- [Methods for adding Timeseries](#2)\n",
    "    - [`add_series_from_database()`](#2.1)\n",
    "    - [`add_timeseries()`](#2.2)\n",
    "    - [`wb.utils.add_timeseries_to_obj()`](#2.3)\n",
    "- [Where are my timeseries?](#3)\n",
    "\n",
    "Import the requisite modules"
   ]
  },
  {
   "cell_type": "code",
   "execution_count": 1,
   "metadata": {},
   "outputs": [],
   "source": [
    "import numpy as np\n",
    "import pandas as pd\n",
    "import waterbalans as wb"
   ]
  },
  {
   "cell_type": "markdown",
   "metadata": {},
   "source": [
    "## [Types of Timeseries](#top)<a id=\"1\"></a>\n",
    "\n",
    "There are several types of Timeseries in the waterbalans module. The description of each of these types is given below.\n",
    "\n",
    "### [Constant](#top)<a id=\"1.1\"></a>\n",
    "The Constant Timeseries is, as the name implies, a timeseries with a constant value throughout the simulation. An example entry for adding a Constant Timeseries with the DataFrame containing series information is shown below:"
   ]
  },
  {
   "cell_type": "code",
   "execution_count": 2,
   "metadata": {},
   "outputs": [
    {
     "data": {
      "text/html": [
       "<div>\n",
       "<style scoped>\n",
       "    .dataframe tbody tr th:only-of-type {\n",
       "        vertical-align: middle;\n",
       "    }\n",
       "\n",
       "    .dataframe tbody tr th {\n",
       "        vertical-align: top;\n",
       "    }\n",
       "\n",
       "    .dataframe thead th {\n",
       "        text-align: right;\n",
       "    }\n",
       "</style>\n",
       "<table border=\"1\" class=\"dataframe\">\n",
       "  <thead>\n",
       "    <tr style=\"text-align: right;\">\n",
       "      <th></th>\n",
       "      <th>BakjeID</th>\n",
       "      <th>ClusterType</th>\n",
       "      <th>ParamType</th>\n",
       "      <th>Waarde</th>\n",
       "      <th>WaardeAlfa</th>\n",
       "      <th>StartDag</th>\n",
       "    </tr>\n",
       "  </thead>\n",
       "  <tbody>\n",
       "    <tr>\n",
       "      <th>0</th>\n",
       "      <td>1</td>\n",
       "      <td>Qkwel</td>\n",
       "      <td>Constant</td>\n",
       "      <td>1.25</td>\n",
       "      <td></td>\n",
       "      <td></td>\n",
       "    </tr>\n",
       "  </tbody>\n",
       "</table>\n",
       "</div>"
      ],
      "text/plain": [
       "   BakjeID ClusterType ParamType  Waarde WaardeAlfa StartDag\n",
       "0        1       Qkwel  Constant    1.25                    "
      ]
     },
     "execution_count": 2,
     "metadata": {},
     "output_type": "execute_result"
    }
   ],
   "source": [
    "df = pd.DataFrame(columns=['BakjeID', 'ClusterType', 'ParamType', 'Waarde', 'WaardeAlfa', 'StartDag'], index=[0],\n",
    "                  data=[[1, \"Qkwel\", \"Constant\", 1.25, \"\", \"\"]])\n",
    "df"
   ]
  },
  {
   "cell_type": "markdown",
   "metadata": {},
   "source": [
    "### [ValueSeries](#top)<a id=\"1.1\"></a>\n",
    "\n",
    "A ValueSeries is a timeseries with a constant value over a certain period. This can be used to differentiate between water levels in the winter and summer periods for example. ValueSeries are entered by adding multiple rows to the Timeseries DataFrame. \n",
    "\n",
    "Note that each year in the ValueSeries will be identical. Within a year there can be as many changes in the value as the user specificies"
   ]
  },
  {
   "cell_type": "code",
   "execution_count": 3,
   "metadata": {},
   "outputs": [
    {
     "data": {
      "text/html": [
       "<div>\n",
       "<style scoped>\n",
       "    .dataframe tbody tr th:only-of-type {\n",
       "        vertical-align: middle;\n",
       "    }\n",
       "\n",
       "    .dataframe tbody tr th {\n",
       "        vertical-align: top;\n",
       "    }\n",
       "\n",
       "    .dataframe thead th {\n",
       "        text-align: right;\n",
       "    }\n",
       "</style>\n",
       "<table border=\"1\" class=\"dataframe\">\n",
       "  <thead>\n",
       "    <tr style=\"text-align: right;\">\n",
       "      <th></th>\n",
       "      <th>BakjeID</th>\n",
       "      <th>ClusterType</th>\n",
       "      <th>ParamType</th>\n",
       "      <th>Waarde</th>\n",
       "      <th>WaardeAlfa</th>\n",
       "      <th>StartDag</th>\n",
       "    </tr>\n",
       "  </thead>\n",
       "  <tbody>\n",
       "    <tr>\n",
       "      <th>0</th>\n",
       "      <td>1</td>\n",
       "      <td>Qkwel</td>\n",
       "      <td>ValueSeries</td>\n",
       "      <td>1.25</td>\n",
       "      <td></td>\n",
       "      <td>10-04</td>\n",
       "    </tr>\n",
       "    <tr>\n",
       "      <th>1</th>\n",
       "      <td>1</td>\n",
       "      <td>Qkwel</td>\n",
       "      <td>ValueSeries</td>\n",
       "      <td>-1.25</td>\n",
       "      <td></td>\n",
       "      <td>10-10</td>\n",
       "    </tr>\n",
       "  </tbody>\n",
       "</table>\n",
       "</div>"
      ],
      "text/plain": [
       "   BakjeID ClusterType    ParamType  Waarde WaardeAlfa StartDag\n",
       "0        1       Qkwel  ValueSeries    1.25               10-04\n",
       "1        1       Qkwel  ValueSeries   -1.25               10-10"
      ]
     },
     "execution_count": 3,
     "metadata": {},
     "output_type": "execute_result"
    }
   ],
   "source": [
    "df = pd.DataFrame(columns=['BakjeID', 'ClusterType', 'ParamType', 'Waarde', 'WaardeAlfa', 'StartDag'], \n",
    "                  index=[0, 1],\n",
    "                  data=[[1, \"Qkwel\", \"ValueSeries\", 1.25, \"\", \"10-04\"], \n",
    "                        [1, \"Qkwel\", \"ValueSeries\", -1.25, \"\", \"10-10\"]])\n",
    "df"
   ]
  },
  {
   "cell_type": "markdown",
   "metadata": {},
   "source": [
    "Convert data to DataFrame with column `StartDag` as the index and `Waarde` as the values"
   ]
  },
  {
   "cell_type": "code",
   "execution_count": 4,
   "metadata": {},
   "outputs": [
    {
     "data": {
      "text/html": [
       "<div>\n",
       "<style scoped>\n",
       "    .dataframe tbody tr th:only-of-type {\n",
       "        vertical-align: middle;\n",
       "    }\n",
       "\n",
       "    .dataframe tbody tr th {\n",
       "        vertical-align: top;\n",
       "    }\n",
       "\n",
       "    .dataframe thead th {\n",
       "        text-align: right;\n",
       "    }\n",
       "</style>\n",
       "<table border=\"1\" class=\"dataframe\">\n",
       "  <thead>\n",
       "    <tr style=\"text-align: right;\">\n",
       "      <th></th>\n",
       "      <th>Waarde</th>\n",
       "    </tr>\n",
       "    <tr>\n",
       "      <th>StartDag</th>\n",
       "      <th></th>\n",
       "    </tr>\n",
       "  </thead>\n",
       "  <tbody>\n",
       "    <tr>\n",
       "      <th>10-04</th>\n",
       "      <td>1.25</td>\n",
       "    </tr>\n",
       "    <tr>\n",
       "      <th>10-10</th>\n",
       "      <td>-1.25</td>\n",
       "    </tr>\n",
       "  </tbody>\n",
       "</table>\n",
       "</div>"
      ],
      "text/plain": [
       "          Waarde\n",
       "StartDag        \n",
       "10-04       1.25\n",
       "10-10      -1.25"
      ]
     },
     "execution_count": 4,
     "metadata": {},
     "output_type": "execute_result"
    }
   ],
   "source": [
    "vs = df[[\"StartDag\", \"Waarde\"]].set_index(\"StartDag\")\n",
    "vs"
   ]
  },
  {
   "cell_type": "markdown",
   "metadata": {},
   "source": [
    "Create a time_index to specify over which period of time the ValueSeries should be created. Create the ValueSeries. See the resulting plot below:"
   ]
  },
  {
   "cell_type": "code",
   "execution_count": 5,
   "metadata": {},
   "outputs": [
    {
     "data": {
      "text/plain": [
       "<AxesSubplot:>"
      ]
     },
     "execution_count": 5,
     "metadata": {},
     "output_type": "execute_result"
    },
    {
     "data": {
      "image/png": "[encoded data removed]",
      "text/plain": [
       "<Figure size 432x288 with 1 Axes>"
      ]
     },
     "metadata": {
      "needs_background": "light"
     },
     "output_type": "display_data"
    }
   ],
   "source": [
    "time_index = pd.date_range(\"2017-01-01\", pd.datetime.now(), freq=\"D\")\n",
    "ts = wb.timeseries.create_block_series(vs, time_index)\n",
    "ts.plot()"
   ]
  },
  {
   "cell_type": "markdown",
   "metadata": {},
   "source": [
    "### [FEWS](#top)<a id=\"1.1\"></a>\n",
    "\n",
    "A FEWS timeseries is a timeseries that is picked up from the FEWS database. In order to do this, a few FEWS parameters have to be specified:\n",
    "- filterId\n",
    "- moduleInstanceId\n",
    "- locationId\n",
    "- parameterId\n",
    "\n",
    "Example input"
   ]
  },
  {
   "cell_type": "code",
   "execution_count": 6,
   "metadata": {},
   "outputs": [
    {
     "data": {
      "text/html": [
       "<div>\n",
       "<style scoped>\n",
       "    .dataframe tbody tr th:only-of-type {\n",
       "        vertical-align: middle;\n",
       "    }\n",
       "\n",
       "    .dataframe tbody tr th {\n",
       "        vertical-align: top;\n",
       "    }\n",
       "\n",
       "    .dataframe thead th {\n",
       "        text-align: right;\n",
       "    }\n",
       "</style>\n",
       "<table border=\"1\" class=\"dataframe\">\n",
       "  <thead>\n",
       "    <tr style=\"text-align: right;\">\n",
       "      <th></th>\n",
       "      <th>BakjeID</th>\n",
       "      <th>ClusterType</th>\n",
       "      <th>ParamType</th>\n",
       "      <th>Waarde</th>\n",
       "      <th>WaardeAlfa</th>\n",
       "      <th>StartDag</th>\n",
       "    </tr>\n",
       "  </thead>\n",
       "  <tbody>\n",
       "    <tr>\n",
       "      <th>0</th>\n",
       "      <td>-9999</td>\n",
       "      <td>Neerslag</td>\n",
       "      <td>FEWS</td>\n",
       "      <td>NaN</td>\n",
       "      <td>meteo_meetstation_KNMI|ImportCAW|66005cal|P.me...</td>\n",
       "      <td></td>\n",
       "    </tr>\n",
       "    <tr>\n",
       "      <th>1</th>\n",
       "      <td>-9999</td>\n",
       "      <td>Verdamping</td>\n",
       "      <td>FEWS</td>\n",
       "      <td>NaN</td>\n",
       "      <td>meteo_meetstation_KNMI|ImportCAW|66002_Verdamp...</td>\n",
       "      <td></td>\n",
       "    </tr>\n",
       "  </tbody>\n",
       "</table>\n",
       "</div>"
      ],
      "text/plain": [
       "   BakjeID ClusterType ParamType  Waarde  \\\n",
       "0    -9999    Neerslag      FEWS     NaN   \n",
       "1    -9999  Verdamping      FEWS     NaN   \n",
       "\n",
       "                                          WaardeAlfa StartDag  \n",
       "0  meteo_meetstation_KNMI|ImportCAW|66005cal|P.me...           \n",
       "1  meteo_meetstation_KNMI|ImportCAW|66002_Verdamp...           "
      ]
     },
     "execution_count": 6,
     "metadata": {},
     "output_type": "execute_result"
    }
   ],
   "source": [
    "df = pd.DataFrame(columns=['BakjeID', 'ClusterType', 'ParamType', 'Waarde', 'WaardeAlfa', 'StartDag'], \n",
    "                  index=[0, 1],\n",
    "                  data=[[-9999, \"Neerslag\", \"FEWS\", np.nan, \n",
    "                         \"meteo_meetstation_KNMI|ImportCAW|66005cal|P.meting.dagcal\", \"\"], \n",
    "                        [-9999, \"Verdamping\", \"FEWS\", np.nan, \n",
    "                         \"meteo_meetstation_KNMI|ImportCAW|66002_VerdampingCAL|E.metingcal\", \"\"]])\n",
    "df"
   ]
  },
  {
   "cell_type": "markdown",
   "metadata": {},
   "source": [
    "Use `wb.timeseries.get_fews_series()` to load data from FEWS database (you need to have access to a FEWS database for this)."
   ]
  },
  {
   "cell_type": "code",
   "execution_count": 7,
   "metadata": {},
   "outputs": [
    {
     "name": "stdout",
     "output_type": "stream",
     "text": [
      "Failed on 'meteo_meetstation_KNMI|ImportCAW|66005cal|P.meting.dagcal'. Check if FEWS database is running!\n",
      "HTTPConnectionPool(host='localhost', port=8080): Max retries exceeded with url: /FewsWebServices/fewspiservice?wsdl (Caused by NewConnectionError('<urllib3.connection.HTTPConnection object at 0x7fd566a67cd0>: Failed to establish a new connection: [Errno 111] Connection refused'))\n",
      "Failed on 'meteo_meetstation_KNMI|ImportCAW|66002_VerdampingCAL|E.metingcal'. Check if FEWS database is running!\n",
      "HTTPConnectionPool(host='localhost', port=8080): Max retries exceeded with url: /FewsWebServices/fewspiservice?wsdl (Caused by NewConnectionError('<urllib3.connection.HTTPConnection object at 0x7fd566590650>: Failed to establish a new connection: [Errno 111] Connection refused'))\n"
     ]
    }
   ],
   "source": [
    "series = []\n",
    "for fewsid in df.WaardeAlfa:\n",
    "    try:\n",
    "        ts = wb.timeseries.get_fews_series(fewsid, tmin=\"1995-12-31\", tmax=\"2019-01-01\")\n",
    "        series.append(ts)\n",
    "    except Exception as e:\n",
    "        print(\"Failed on '{}'. Check if FEWS database is running!\".format(fewsid))\n",
    "        print(e)"
   ]
  },
  {
   "cell_type": "markdown",
   "metadata": {},
   "source": [
    "Plot the timeseries:\n",
    "\n",
    "(Note that there is apparently no evaporation coming out of the FEWS database after 2010 for some reason.)"
   ]
  },
  {
   "cell_type": "code",
   "execution_count": 8,
   "metadata": {},
   "outputs": [
    {
     "ename": "IndexError",
     "evalue": "list index out of range",
     "output_type": "error",
     "traceback": [
      "\u001b[0;31m---------------------------------------------------------------------------\u001b[0m",
      "\u001b[0;31mIndexError\u001b[0m                                Traceback (most recent call last)",
      "\u001b[0;32m<ipython-input-8-2713ad02d35b>\u001b[0m in \u001b[0;36m<module>\u001b[0;34m\u001b[0m\n\u001b[0;32m----> 1\u001b[0;31m \u001b[0max\u001b[0m \u001b[0;34m=\u001b[0m \u001b[0mseries\u001b[0m\u001b[0;34m[\u001b[0m\u001b[0;36m0\u001b[0m\u001b[0;34m]\u001b[0m\u001b[0;34m.\u001b[0m\u001b[0mvalue\u001b[0m\u001b[0;34m.\u001b[0m\u001b[0mplot\u001b[0m\u001b[0;34m(\u001b[0m\u001b[0;34m)\u001b[0m\u001b[0;34m\u001b[0m\u001b[0;34m\u001b[0m\u001b[0m\n\u001b[0m\u001b[1;32m      2\u001b[0m \u001b[0mseries\u001b[0m\u001b[0;34m[\u001b[0m\u001b[0;36m1\u001b[0m\u001b[0;34m]\u001b[0m\u001b[0;34m.\u001b[0m\u001b[0mvalue\u001b[0m\u001b[0;34m.\u001b[0m\u001b[0mplot\u001b[0m\u001b[0;34m(\u001b[0m\u001b[0max\u001b[0m\u001b[0;34m=\u001b[0m\u001b[0max\u001b[0m\u001b[0;34m)\u001b[0m\u001b[0;34m\u001b[0m\u001b[0;34m\u001b[0m\u001b[0m\n",
      "\u001b[0;31mIndexError\u001b[0m: list index out of range"
     ]
    }
   ],
   "source": [
    "ax = series[0].value.plot()\n",
    "series[1].value.plot(ax=ax)"
   ]
  },
  {
   "cell_type": "markdown",
   "metadata": {},
   "source": [
    "### [KNMI](#top)<a id=\"1.1\"></a>\n",
    "\n",
    "Another timeseries type is KNMI, which can only be used for precipitation and evaporation. When the ParamType is set to KNMI, the module will attempt to download the timeseries for the station number provided in Waarde."
   ]
  },
  {
   "cell_type": "code",
   "execution_count": 9,
   "metadata": {},
   "outputs": [
    {
     "data": {
      "text/html": [
       "<div>\n",
       "<style scoped>\n",
       "    .dataframe tbody tr th:only-of-type {\n",
       "        vertical-align: middle;\n",
       "    }\n",
       "\n",
       "    .dataframe tbody tr th {\n",
       "        vertical-align: top;\n",
       "    }\n",
       "\n",
       "    .dataframe thead th {\n",
       "        text-align: right;\n",
       "    }\n",
       "</style>\n",
       "<table border=\"1\" class=\"dataframe\">\n",
       "  <thead>\n",
       "    <tr style=\"text-align: right;\">\n",
       "      <th></th>\n",
       "      <th>BakjeID</th>\n",
       "      <th>ClusterType</th>\n",
       "      <th>ParamType</th>\n",
       "      <th>Waarde</th>\n",
       "      <th>WaardeAlfa</th>\n",
       "      <th>StartDag</th>\n",
       "    </tr>\n",
       "  </thead>\n",
       "  <tbody>\n",
       "    <tr>\n",
       "      <th>0</th>\n",
       "      <td>1</td>\n",
       "      <td>Neerslag</td>\n",
       "      <td>KNMI</td>\n",
       "      <td>240</td>\n",
       "      <td></td>\n",
       "      <td></td>\n",
       "    </tr>\n",
       "    <tr>\n",
       "      <th>1</th>\n",
       "      <td>1</td>\n",
       "      <td>Verdamping</td>\n",
       "      <td>KNMI</td>\n",
       "      <td>260</td>\n",
       "      <td></td>\n",
       "      <td></td>\n",
       "    </tr>\n",
       "  </tbody>\n",
       "</table>\n",
       "</div>"
      ],
      "text/plain": [
       "   BakjeID ClusterType ParamType  Waarde WaardeAlfa StartDag\n",
       "0        1    Neerslag      KNMI     240                    \n",
       "1        1  Verdamping      KNMI     260                    "
      ]
     },
     "execution_count": 9,
     "metadata": {},
     "output_type": "execute_result"
    }
   ],
   "source": [
    "df = pd.DataFrame(columns=['BakjeID', 'ClusterType', 'ParamType', 'Waarde', 'WaardeAlfa', 'StartDag'], \n",
    "                  index=[0, 1],\n",
    "                  data=[[1, \"Neerslag\", \"KNMI\", 240, \"\", \"\"], \n",
    "                        [1, \"Verdamping\", \"KNMI\", 260, \"\", \"\"]])\n",
    "df"
   ]
  },
  {
   "cell_type": "markdown",
   "metadata": {},
   "source": [
    "Using `wb.timeseries.get_series` to download the KNMI data:"
   ]
  },
  {
   "cell_type": "code",
   "execution_count": 10,
   "metadata": {},
   "outputs": [
    {
     "name": "stderr",
     "output_type": "stream",
     "text": [
      "/home/david/anaconda3/envs/waterbalans/lib/python3.7/site-packages/pastas/read/knmi.py:333: UserWarning: No KNMI data found\n",
      "  warn('No KNMI data found')\n"
     ]
    },
    {
     "ename": "KeyError",
     "evalue": "'RD'",
     "output_type": "error",
     "traceback": [
      "\u001b[0;31m---------------------------------------------------------------------------\u001b[0m",
      "\u001b[0;31mKeyError\u001b[0m                                  Traceback (most recent call last)",
      "\u001b[0;32m~/anaconda3/envs/waterbalans/lib/python3.7/site-packages/pandas/core/indexes/base.py\u001b[0m in \u001b[0;36mget_loc\u001b[0;34m(self, key, method, tolerance)\u001b[0m\n\u001b[1;32m   2889\u001b[0m             \u001b[0;32mtry\u001b[0m\u001b[0;34m:\u001b[0m\u001b[0;34m\u001b[0m\u001b[0;34m\u001b[0m\u001b[0m\n\u001b[0;32m-> 2890\u001b[0;31m                 \u001b[0;32mreturn\u001b[0m \u001b[0mself\u001b[0m\u001b[0;34m.\u001b[0m\u001b[0m_engine\u001b[0m\u001b[0;34m.\u001b[0m\u001b[0mget_loc\u001b[0m\u001b[0;34m(\u001b[0m\u001b[0mkey\u001b[0m\u001b[0;34m)\u001b[0m\u001b[0;34m\u001b[0m\u001b[0;34m\u001b[0m\u001b[0m\n\u001b[0m\u001b[1;32m   2891\u001b[0m             \u001b[0;32mexcept\u001b[0m \u001b[0mKeyError\u001b[0m\u001b[0;34m:\u001b[0m\u001b[0;34m\u001b[0m\u001b[0;34m\u001b[0m\u001b[0m\n",
      "\u001b[0;32mpandas/_libs/index.pyx\u001b[0m in \u001b[0;36mpandas._libs.index.IndexEngine.get_loc\u001b[0;34m()\u001b[0m\n",
      "\u001b[0;32mpandas/_libs/index.pyx\u001b[0m in \u001b[0;36mpandas._libs.index.IndexEngine.get_loc\u001b[0;34m()\u001b[0m\n",
      "\u001b[0;32mpandas/_libs/hashtable_class_helper.pxi\u001b[0m in \u001b[0;36mpandas._libs.hashtable.PyObjectHashTable.get_item\u001b[0;34m()\u001b[0m\n",
      "\u001b[0;32mpandas/_libs/hashtable_class_helper.pxi\u001b[0m in \u001b[0;36mpandas._libs.hashtable.PyObjectHashTable.get_item\u001b[0;34m()\u001b[0m\n",
      "\u001b[0;31mKeyError\u001b[0m: 'RD'",
      "\nDuring handling of the above exception, another exception occurred:\n",
      "\u001b[0;31mKeyError\u001b[0m                                  Traceback (most recent call last)",
      "\u001b[0;32m<ipython-input-10-65fe174d57e5>\u001b[0m in \u001b[0;36m<module>\u001b[0;34m\u001b[0m\n\u001b[0;32m----> 1\u001b[0;31m \u001b[0ms\u001b[0m \u001b[0;34m=\u001b[0m \u001b[0mwb\u001b[0m\u001b[0;34m.\u001b[0m\u001b[0mtimeseries\u001b[0m\u001b[0;34m.\u001b[0m\u001b[0mget_series\u001b[0m\u001b[0;34m(\u001b[0m\u001b[0;34m\"Neerslag\"\u001b[0m\u001b[0;34m,\u001b[0m \u001b[0;34m\"KNMI\"\u001b[0m\u001b[0;34m,\u001b[0m \u001b[0mdf\u001b[0m\u001b[0;34m.\u001b[0m\u001b[0miloc\u001b[0m\u001b[0;34m[\u001b[0m\u001b[0;34m[\u001b[0m\u001b[0;36m0\u001b[0m\u001b[0;34m]\u001b[0m\u001b[0;34m]\u001b[0m\u001b[0;34m,\u001b[0m \u001b[0mtmin\u001b[0m\u001b[0;34m=\u001b[0m\u001b[0;34m'2017-01-01'\u001b[0m\u001b[0;34m,\u001b[0m \u001b[0mtmax\u001b[0m\u001b[0;34m=\u001b[0m\u001b[0;34m\"2019-01-01\"\u001b[0m\u001b[0;34m)\u001b[0m\u001b[0;34m\u001b[0m\u001b[0;34m\u001b[0m\u001b[0m\n\u001b[0m",
      "\u001b[0;32m~/Github/waterbalans/waterbalans/timeseries.py\u001b[0m in \u001b[0;36mget_series\u001b[0;34m(name, kind, data, tmin, tmax, freq, loggername, wsdl)\u001b[0m\n\u001b[1;32m    104\u001b[0m         logger.info(\"Downloading {0} from KNMI for station {1}.\".format(\n\u001b[1;32m    105\u001b[0m             name, stn))\n\u001b[0;32m--> 106\u001b[0;31m         \u001b[0mseries\u001b[0m \u001b[0;34m=\u001b[0m \u001b[0m_get_knmi_series\u001b[0m\u001b[0;34m(\u001b[0m\u001b[0mname\u001b[0m\u001b[0;34m,\u001b[0m \u001b[0mstn\u001b[0m\u001b[0;34m,\u001b[0m \u001b[0mtmin\u001b[0m\u001b[0;34m,\u001b[0m \u001b[0mtmax\u001b[0m\u001b[0;34m,\u001b[0m \u001b[0mlogger\u001b[0m\u001b[0;34m)\u001b[0m\u001b[0;34m\u001b[0m\u001b[0;34m\u001b[0m\u001b[0m\n\u001b[0m\u001b[1;32m    107\u001b[0m \u001b[0;34m\u001b[0m\u001b[0m\n\u001b[1;32m    108\u001b[0m     \u001b[0;31m#  If a constant timeseries is required\u001b[0m\u001b[0;34m\u001b[0m\u001b[0;34m\u001b[0m\u001b[0;34m\u001b[0m\u001b[0m\n",
      "\u001b[0;32m~/Github/waterbalans/waterbalans/timeseries.py\u001b[0m in \u001b[0;36m_get_knmi_series\u001b[0;34m(name, stn, tmin, tmax, logger)\u001b[0m\n\u001b[1;32m    413\u001b[0m         s = KnmiStation.download(\n\u001b[1;32m    414\u001b[0m             stns=[stn], start=tmin, end=tmax, vars=\"RD\")\n\u001b[0;32m--> 415\u001b[0;31m         \u001b[0mseries\u001b[0m \u001b[0;34m=\u001b[0m \u001b[0ms\u001b[0m\u001b[0;34m.\u001b[0m\u001b[0mdata\u001b[0m\u001b[0;34m.\u001b[0m\u001b[0mloc\u001b[0m\u001b[0;34m[\u001b[0m\u001b[0;34m:\u001b[0m\u001b[0;34m,\u001b[0m \u001b[0;34m\"RD\"\u001b[0m\u001b[0;34m]\u001b[0m\u001b[0;34m\u001b[0m\u001b[0;34m\u001b[0m\u001b[0m\n\u001b[0m\u001b[1;32m    416\u001b[0m         \u001b[0;32mif\u001b[0m \u001b[0mnp\u001b[0m\u001b[0;34m.\u001b[0m\u001b[0many\u001b[0m\u001b[0;34m(\u001b[0m\u001b[0mseries\u001b[0m\u001b[0;34m.\u001b[0m\u001b[0mindex\u001b[0m\u001b[0;34m.\u001b[0m\u001b[0mhour\u001b[0m \u001b[0;34m==\u001b[0m \u001b[0;36m9\u001b[0m\u001b[0;34m)\u001b[0m\u001b[0;34m:\u001b[0m\u001b[0;34m\u001b[0m\u001b[0;34m\u001b[0m\u001b[0m\n\u001b[1;32m    417\u001b[0m             \u001b[0mseries\u001b[0m\u001b[0;34m.\u001b[0m\u001b[0mindex\u001b[0m \u001b[0;34m=\u001b[0m \u001b[0mseries\u001b[0m\u001b[0;34m.\u001b[0m\u001b[0mindex\u001b[0m\u001b[0;34m.\u001b[0m\u001b[0mfloor\u001b[0m\u001b[0;34m(\u001b[0m\u001b[0mfreq\u001b[0m\u001b[0;34m=\u001b[0m\u001b[0;34m\"D\"\u001b[0m\u001b[0;34m)\u001b[0m \u001b[0;34m-\u001b[0m \u001b[0mTimedelta\u001b[0m\u001b[0;34m(\u001b[0m\u001b[0mdays\u001b[0m\u001b[0;34m=\u001b[0m\u001b[0;36m1\u001b[0m\u001b[0;34m)\u001b[0m\u001b[0;34m\u001b[0m\u001b[0;34m\u001b[0m\u001b[0m\n",
      "\u001b[0;32m~/anaconda3/envs/waterbalans/lib/python3.7/site-packages/pandas/core/indexing.py\u001b[0m in \u001b[0;36m__getitem__\u001b[0;34m(self, key)\u001b[0m\n\u001b[1;32m   1402\u001b[0m                 \u001b[0;32mexcept\u001b[0m \u001b[0;34m(\u001b[0m\u001b[0mKeyError\u001b[0m\u001b[0;34m,\u001b[0m \u001b[0mIndexError\u001b[0m\u001b[0;34m,\u001b[0m \u001b[0mAttributeError\u001b[0m\u001b[0;34m)\u001b[0m\u001b[0;34m:\u001b[0m\u001b[0;34m\u001b[0m\u001b[0;34m\u001b[0m\u001b[0m\n\u001b[1;32m   1403\u001b[0m                     \u001b[0;32mpass\u001b[0m\u001b[0;34m\u001b[0m\u001b[0;34m\u001b[0m\u001b[0m\n\u001b[0;32m-> 1404\u001b[0;31m             \u001b[0;32mreturn\u001b[0m \u001b[0mself\u001b[0m\u001b[0;34m.\u001b[0m\u001b[0m_getitem_tuple\u001b[0m\u001b[0;34m(\u001b[0m\u001b[0mkey\u001b[0m\u001b[0;34m)\u001b[0m\u001b[0;34m\u001b[0m\u001b[0;34m\u001b[0m\u001b[0m\n\u001b[0m\u001b[1;32m   1405\u001b[0m         \u001b[0;32melse\u001b[0m\u001b[0;34m:\u001b[0m\u001b[0;34m\u001b[0m\u001b[0;34m\u001b[0m\u001b[0m\n\u001b[1;32m   1406\u001b[0m             \u001b[0;31m# we by definition only have the 0th axis\u001b[0m\u001b[0;34m\u001b[0m\u001b[0;34m\u001b[0m\u001b[0;34m\u001b[0m\u001b[0m\n",
      "\u001b[0;32m~/anaconda3/envs/waterbalans/lib/python3.7/site-packages/pandas/core/indexing.py\u001b[0m in \u001b[0;36m_getitem_tuple\u001b[0;34m(self, tup)\u001b[0m\n\u001b[1;32m    789\u001b[0m     \u001b[0;32mdef\u001b[0m \u001b[0m_getitem_tuple\u001b[0m\u001b[0;34m(\u001b[0m\u001b[0mself\u001b[0m\u001b[0;34m,\u001b[0m \u001b[0mtup\u001b[0m\u001b[0;34m)\u001b[0m\u001b[0;34m:\u001b[0m\u001b[0;34m\u001b[0m\u001b[0;34m\u001b[0m\u001b[0m\n\u001b[1;32m    790\u001b[0m         \u001b[0;32mtry\u001b[0m\u001b[0;34m:\u001b[0m\u001b[0;34m\u001b[0m\u001b[0;34m\u001b[0m\u001b[0m\n\u001b[0;32m--> 791\u001b[0;31m             \u001b[0;32mreturn\u001b[0m \u001b[0mself\u001b[0m\u001b[0;34m.\u001b[0m\u001b[0m_getitem_lowerdim\u001b[0m\u001b[0;34m(\u001b[0m\u001b[0mtup\u001b[0m\u001b[0;34m)\u001b[0m\u001b[0;34m\u001b[0m\u001b[0;34m\u001b[0m\u001b[0m\n\u001b[0m\u001b[1;32m    792\u001b[0m         \u001b[0;32mexcept\u001b[0m \u001b[0mIndexingError\u001b[0m\u001b[0;34m:\u001b[0m\u001b[0;34m\u001b[0m\u001b[0;34m\u001b[0m\u001b[0m\n\u001b[1;32m    793\u001b[0m             \u001b[0;32mpass\u001b[0m\u001b[0;34m\u001b[0m\u001b[0;34m\u001b[0m\u001b[0m\n",
      "\u001b[0;32m~/anaconda3/envs/waterbalans/lib/python3.7/site-packages/pandas/core/indexing.py\u001b[0m in \u001b[0;36m_getitem_lowerdim\u001b[0;34m(self, tup)\u001b[0m\n\u001b[1;32m    913\u001b[0m         \u001b[0;32mfor\u001b[0m \u001b[0mi\u001b[0m\u001b[0;34m,\u001b[0m \u001b[0mkey\u001b[0m \u001b[0;32min\u001b[0m \u001b[0menumerate\u001b[0m\u001b[0;34m(\u001b[0m\u001b[0mtup\u001b[0m\u001b[0;34m)\u001b[0m\u001b[0;34m:\u001b[0m\u001b[0;34m\u001b[0m\u001b[0;34m\u001b[0m\u001b[0m\n\u001b[1;32m    914\u001b[0m             \u001b[0;32mif\u001b[0m \u001b[0mis_label_like\u001b[0m\u001b[0;34m(\u001b[0m\u001b[0mkey\u001b[0m\u001b[0;34m)\u001b[0m \u001b[0;32mor\u001b[0m \u001b[0misinstance\u001b[0m\u001b[0;34m(\u001b[0m\u001b[0mkey\u001b[0m\u001b[0;34m,\u001b[0m \u001b[0mtuple\u001b[0m\u001b[0;34m)\u001b[0m\u001b[0;34m:\u001b[0m\u001b[0;34m\u001b[0m\u001b[0;34m\u001b[0m\u001b[0m\n\u001b[0;32m--> 915\u001b[0;31m                 \u001b[0msection\u001b[0m \u001b[0;34m=\u001b[0m \u001b[0mself\u001b[0m\u001b[0;34m.\u001b[0m\u001b[0m_getitem_axis\u001b[0m\u001b[0;34m(\u001b[0m\u001b[0mkey\u001b[0m\u001b[0;34m,\u001b[0m \u001b[0maxis\u001b[0m\u001b[0;34m=\u001b[0m\u001b[0mi\u001b[0m\u001b[0;34m)\u001b[0m\u001b[0;34m\u001b[0m\u001b[0;34m\u001b[0m\u001b[0m\n\u001b[0m\u001b[1;32m    916\u001b[0m \u001b[0;34m\u001b[0m\u001b[0m\n\u001b[1;32m    917\u001b[0m                 \u001b[0;31m# we have yielded a scalar ?\u001b[0m\u001b[0;34m\u001b[0m\u001b[0;34m\u001b[0m\u001b[0;34m\u001b[0m\u001b[0m\n",
      "\u001b[0;32m~/anaconda3/envs/waterbalans/lib/python3.7/site-packages/pandas/core/indexing.py\u001b[0m in \u001b[0;36m_getitem_axis\u001b[0;34m(self, key, axis)\u001b[0m\n\u001b[1;32m   1823\u001b[0m         \u001b[0;31m# fall thru to straight lookup\u001b[0m\u001b[0;34m\u001b[0m\u001b[0;34m\u001b[0m\u001b[0;34m\u001b[0m\u001b[0m\n\u001b[1;32m   1824\u001b[0m         \u001b[0mself\u001b[0m\u001b[0;34m.\u001b[0m\u001b[0m_validate_key\u001b[0m\u001b[0;34m(\u001b[0m\u001b[0mkey\u001b[0m\u001b[0;34m,\u001b[0m \u001b[0maxis\u001b[0m\u001b[0;34m)\u001b[0m\u001b[0;34m\u001b[0m\u001b[0;34m\u001b[0m\u001b[0m\n\u001b[0;32m-> 1825\u001b[0;31m         \u001b[0;32mreturn\u001b[0m \u001b[0mself\u001b[0m\u001b[0;34m.\u001b[0m\u001b[0m_get_label\u001b[0m\u001b[0;34m(\u001b[0m\u001b[0mkey\u001b[0m\u001b[0;34m,\u001b[0m \u001b[0maxis\u001b[0m\u001b[0;34m=\u001b[0m\u001b[0maxis\u001b[0m\u001b[0;34m)\u001b[0m\u001b[0;34m\u001b[0m\u001b[0;34m\u001b[0m\u001b[0m\n\u001b[0m\u001b[1;32m   1826\u001b[0m \u001b[0;34m\u001b[0m\u001b[0m\n\u001b[1;32m   1827\u001b[0m \u001b[0;34m\u001b[0m\u001b[0m\n",
      "\u001b[0;32m~/anaconda3/envs/waterbalans/lib/python3.7/site-packages/pandas/core/indexing.py\u001b[0m in \u001b[0;36m_get_label\u001b[0;34m(self, label, axis)\u001b[0m\n\u001b[1;32m    155\u001b[0m             \u001b[0;32mraise\u001b[0m \u001b[0mIndexingError\u001b[0m\u001b[0;34m(\u001b[0m\u001b[0;34m\"no slices here, handle elsewhere\"\u001b[0m\u001b[0;34m)\u001b[0m\u001b[0;34m\u001b[0m\u001b[0;34m\u001b[0m\u001b[0m\n\u001b[1;32m    156\u001b[0m \u001b[0;34m\u001b[0m\u001b[0m\n\u001b[0;32m--> 157\u001b[0;31m         \u001b[0;32mreturn\u001b[0m \u001b[0mself\u001b[0m\u001b[0;34m.\u001b[0m\u001b[0mobj\u001b[0m\u001b[0;34m.\u001b[0m\u001b[0m_xs\u001b[0m\u001b[0;34m(\u001b[0m\u001b[0mlabel\u001b[0m\u001b[0;34m,\u001b[0m \u001b[0maxis\u001b[0m\u001b[0;34m=\u001b[0m\u001b[0maxis\u001b[0m\u001b[0;34m)\u001b[0m\u001b[0;34m\u001b[0m\u001b[0;34m\u001b[0m\u001b[0m\n\u001b[0m\u001b[1;32m    158\u001b[0m \u001b[0;34m\u001b[0m\u001b[0m\n\u001b[1;32m    159\u001b[0m     \u001b[0;32mdef\u001b[0m \u001b[0m_get_loc\u001b[0m\u001b[0;34m(\u001b[0m\u001b[0mself\u001b[0m\u001b[0;34m,\u001b[0m \u001b[0mkey\u001b[0m\u001b[0;34m:\u001b[0m \u001b[0mint\u001b[0m\u001b[0;34m,\u001b[0m \u001b[0maxis\u001b[0m\u001b[0;34m:\u001b[0m \u001b[0mint\u001b[0m\u001b[0;34m)\u001b[0m\u001b[0;34m:\u001b[0m\u001b[0;34m\u001b[0m\u001b[0;34m\u001b[0m\u001b[0m\n",
      "\u001b[0;32m~/anaconda3/envs/waterbalans/lib/python3.7/site-packages/pandas/core/generic.py\u001b[0m in \u001b[0;36mxs\u001b[0;34m(self, key, axis, level, drop_level)\u001b[0m\n\u001b[1;32m   3728\u001b[0m \u001b[0;34m\u001b[0m\u001b[0m\n\u001b[1;32m   3729\u001b[0m         \u001b[0;32mif\u001b[0m \u001b[0maxis\u001b[0m \u001b[0;34m==\u001b[0m \u001b[0;36m1\u001b[0m\u001b[0;34m:\u001b[0m\u001b[0;34m\u001b[0m\u001b[0;34m\u001b[0m\u001b[0m\n\u001b[0;32m-> 3730\u001b[0;31m             \u001b[0;32mreturn\u001b[0m \u001b[0mself\u001b[0m\u001b[0;34m[\u001b[0m\u001b[0mkey\u001b[0m\u001b[0;34m]\u001b[0m\u001b[0;34m\u001b[0m\u001b[0;34m\u001b[0m\u001b[0m\n\u001b[0m\u001b[1;32m   3731\u001b[0m \u001b[0;34m\u001b[0m\u001b[0m\n\u001b[1;32m   3732\u001b[0m         \u001b[0mself\u001b[0m\u001b[0;34m.\u001b[0m\u001b[0m_consolidate_inplace\u001b[0m\u001b[0;34m(\u001b[0m\u001b[0;34m)\u001b[0m\u001b[0;34m\u001b[0m\u001b[0;34m\u001b[0m\u001b[0m\n",
      "\u001b[0;32m~/anaconda3/envs/waterbalans/lib/python3.7/site-packages/pandas/core/frame.py\u001b[0m in \u001b[0;36m__getitem__\u001b[0;34m(self, key)\u001b[0m\n\u001b[1;32m   2973\u001b[0m             \u001b[0;32mif\u001b[0m \u001b[0mself\u001b[0m\u001b[0;34m.\u001b[0m\u001b[0mcolumns\u001b[0m\u001b[0;34m.\u001b[0m\u001b[0mnlevels\u001b[0m \u001b[0;34m>\u001b[0m \u001b[0;36m1\u001b[0m\u001b[0;34m:\u001b[0m\u001b[0;34m\u001b[0m\u001b[0;34m\u001b[0m\u001b[0m\n\u001b[1;32m   2974\u001b[0m                 \u001b[0;32mreturn\u001b[0m \u001b[0mself\u001b[0m\u001b[0;34m.\u001b[0m\u001b[0m_getitem_multilevel\u001b[0m\u001b[0;34m(\u001b[0m\u001b[0mkey\u001b[0m\u001b[0;34m)\u001b[0m\u001b[0;34m\u001b[0m\u001b[0;34m\u001b[0m\u001b[0m\n\u001b[0;32m-> 2975\u001b[0;31m             \u001b[0mindexer\u001b[0m \u001b[0;34m=\u001b[0m \u001b[0mself\u001b[0m\u001b[0;34m.\u001b[0m\u001b[0mcolumns\u001b[0m\u001b[0;34m.\u001b[0m\u001b[0mget_loc\u001b[0m\u001b[0;34m(\u001b[0m\u001b[0mkey\u001b[0m\u001b[0;34m)\u001b[0m\u001b[0;34m\u001b[0m\u001b[0;34m\u001b[0m\u001b[0m\n\u001b[0m\u001b[1;32m   2976\u001b[0m             \u001b[0;32mif\u001b[0m \u001b[0mis_integer\u001b[0m\u001b[0;34m(\u001b[0m\u001b[0mindexer\u001b[0m\u001b[0;34m)\u001b[0m\u001b[0;34m:\u001b[0m\u001b[0;34m\u001b[0m\u001b[0;34m\u001b[0m\u001b[0m\n\u001b[1;32m   2977\u001b[0m                 \u001b[0mindexer\u001b[0m \u001b[0;34m=\u001b[0m \u001b[0;34m[\u001b[0m\u001b[0mindexer\u001b[0m\u001b[0;34m]\u001b[0m\u001b[0;34m\u001b[0m\u001b[0;34m\u001b[0m\u001b[0m\n",
      "\u001b[0;32m~/anaconda3/envs/waterbalans/lib/python3.7/site-packages/pandas/core/indexes/base.py\u001b[0m in \u001b[0;36mget_loc\u001b[0;34m(self, key, method, tolerance)\u001b[0m\n\u001b[1;32m   2890\u001b[0m                 \u001b[0;32mreturn\u001b[0m \u001b[0mself\u001b[0m\u001b[0;34m.\u001b[0m\u001b[0m_engine\u001b[0m\u001b[0;34m.\u001b[0m\u001b[0mget_loc\u001b[0m\u001b[0;34m(\u001b[0m\u001b[0mkey\u001b[0m\u001b[0;34m)\u001b[0m\u001b[0;34m\u001b[0m\u001b[0;34m\u001b[0m\u001b[0m\n\u001b[1;32m   2891\u001b[0m             \u001b[0;32mexcept\u001b[0m \u001b[0mKeyError\u001b[0m\u001b[0;34m:\u001b[0m\u001b[0;34m\u001b[0m\u001b[0;34m\u001b[0m\u001b[0m\n\u001b[0;32m-> 2892\u001b[0;31m                 \u001b[0;32mreturn\u001b[0m \u001b[0mself\u001b[0m\u001b[0;34m.\u001b[0m\u001b[0m_engine\u001b[0m\u001b[0;34m.\u001b[0m\u001b[0mget_loc\u001b[0m\u001b[0;34m(\u001b[0m\u001b[0mself\u001b[0m\u001b[0;34m.\u001b[0m\u001b[0m_maybe_cast_indexer\u001b[0m\u001b[0;34m(\u001b[0m\u001b[0mkey\u001b[0m\u001b[0;34m)\u001b[0m\u001b[0;34m)\u001b[0m\u001b[0;34m\u001b[0m\u001b[0;34m\u001b[0m\u001b[0m\n\u001b[0m\u001b[1;32m   2893\u001b[0m         \u001b[0mindexer\u001b[0m \u001b[0;34m=\u001b[0m \u001b[0mself\u001b[0m\u001b[0;34m.\u001b[0m\u001b[0mget_indexer\u001b[0m\u001b[0;34m(\u001b[0m\u001b[0;34m[\u001b[0m\u001b[0mkey\u001b[0m\u001b[0;34m]\u001b[0m\u001b[0;34m,\u001b[0m \u001b[0mmethod\u001b[0m\u001b[0;34m=\u001b[0m\u001b[0mmethod\u001b[0m\u001b[0;34m,\u001b[0m \u001b[0mtolerance\u001b[0m\u001b[0;34m=\u001b[0m\u001b[0mtolerance\u001b[0m\u001b[0;34m)\u001b[0m\u001b[0;34m\u001b[0m\u001b[0;34m\u001b[0m\u001b[0m\n\u001b[1;32m   2894\u001b[0m         \u001b[0;32mif\u001b[0m \u001b[0mindexer\u001b[0m\u001b[0;34m.\u001b[0m\u001b[0mndim\u001b[0m \u001b[0;34m>\u001b[0m \u001b[0;36m1\u001b[0m \u001b[0;32mor\u001b[0m \u001b[0mindexer\u001b[0m\u001b[0;34m.\u001b[0m\u001b[0msize\u001b[0m \u001b[0;34m>\u001b[0m \u001b[0;36m1\u001b[0m\u001b[0;34m:\u001b[0m\u001b[0;34m\u001b[0m\u001b[0;34m\u001b[0m\u001b[0m\n",
      "\u001b[0;32mpandas/_libs/index.pyx\u001b[0m in \u001b[0;36mpandas._libs.index.IndexEngine.get_loc\u001b[0;34m()\u001b[0m\n",
      "\u001b[0;32mpandas/_libs/index.pyx\u001b[0m in \u001b[0;36mpandas._libs.index.IndexEngine.get_loc\u001b[0;34m()\u001b[0m\n",
      "\u001b[0;32mpandas/_libs/hashtable_class_helper.pxi\u001b[0m in \u001b[0;36mpandas._libs.hashtable.PyObjectHashTable.get_item\u001b[0;34m()\u001b[0m\n",
      "\u001b[0;32mpandas/_libs/hashtable_class_helper.pxi\u001b[0m in \u001b[0;36mpandas._libs.hashtable.PyObjectHashTable.get_item\u001b[0;34m()\u001b[0m\n",
      "\u001b[0;31mKeyError\u001b[0m: 'RD'"
     ]
    }
   ],
   "source": [
    "s = wb.timeseries.get_series(\"Neerslag\", \"KNMI\", df.iloc[[0]], tmin='2017-01-01', tmax=\"2019-01-01\")"
   ]
  },
  {
   "cell_type": "code",
   "execution_count": 11,
   "metadata": {},
   "outputs": [
    {
     "ename": "NameError",
     "evalue": "name 's' is not defined",
     "output_type": "error",
     "traceback": [
      "\u001b[0;31m---------------------------------------------------------------------------\u001b[0m",
      "\u001b[0;31mNameError\u001b[0m                                 Traceback (most recent call last)",
      "\u001b[0;32m<ipython-input-11-886abc61b753>\u001b[0m in \u001b[0;36m<module>\u001b[0;34m\u001b[0m\n\u001b[0;32m----> 1\u001b[0;31m \u001b[0ms\u001b[0m\u001b[0;34m.\u001b[0m\u001b[0mplot\u001b[0m\u001b[0;34m(\u001b[0m\u001b[0;34m)\u001b[0m\u001b[0;34m\u001b[0m\u001b[0;34m\u001b[0m\u001b[0m\n\u001b[0m",
      "\u001b[0;31mNameError\u001b[0m: name 's' is not defined"
     ]
    }
   ],
   "source": [
    "s.plot()"
   ]
  },
  {
   "cell_type": "markdown",
   "metadata": {},
   "source": [
    "### [Local (currently not implemented)](#top)<a id=\"1.1\"></a>\n",
    "\n",
    "The Local timeseries is a reference to a locally stored timeseries. This type can be seen in the CSV files exported from the database, but is not currently implemented in the waterbalans module. The reason is that this method overlaps with the functionality provided by `wb.utils.add_timeseries_to_obj` (which is much more efficient). Also there is data missing in the database to point the module to the right files to load."
   ]
  },
  {
   "cell_type": "markdown",
   "metadata": {},
   "source": [
    "<hr>\n",
    "\n",
    "## [Methods for adding Timeseries](#top)<a id=\"2\"></a>\n",
    "\n",
    "There are several methods to add timeseries to an EAG or GAF object. These are described below\n",
    "\n",
    "### [`add_series_from_database()`](#top)<a id=\"2.1\"></a>\n",
    "\n",
    "This method is used to parse the CSV file that is exported from the database that contains all of the information about timeseries to add to the EAG. \n",
    "\n",
    "Let's take a look at the docstring for this method:"
   ]
  },
  {
   "cell_type": "code",
   "execution_count": 12,
   "metadata": {},
   "outputs": [
    {
     "name": "stdout",
     "output_type": "stream",
     "text": [
      "Help on function add_series_from_database in module waterbalans.eag:\n",
      "\n",
      "add_series_from_database(self, series, tmin, tmax, freq='D', fillna=False, method='append')\n",
      "    Method to add timeseries based on a DataFrame containing\n",
      "    information about the series. Series are described by one or more\n",
      "    rows in the DataFrame with at least the following columns:\n",
      "    \n",
      "     - Bucket ID: ID of the bucket the series should be added to\n",
      "     - SeriesType (unfortunately called ParamType at the moment): Origin or Type\n",
      "       of the Series: e.g. FEWS, KNMI, Local, ValueSeries, Constant\n",
      "     - ClusterType: Name of the parameter\n",
      "    \n",
      "    Parameters\n",
      "    ----------\n",
      "    series: pandas.DataFrame\n",
      "    tmin: str or pandas.Timestamp, optional\n",
      "    tmax: str or pandas.Timestamp, optional\n",
      "    freq: str\n",
      "    \n",
      "    Notes\n",
      "    -----\n",
      "    \n",
      "    Examples\n",
      "    --------\n",
      "    series = pd.read_csv(\"data\\reeks_16088_2501-EAG-1.csv\", delimiter=\";\",\n",
      "                  decimal=\",\")\n",
      "    eag.add_series_from_database(series)\n",
      "\n"
     ]
    }
   ],
   "source": [
    "help(wb.Eag.add_series_from_database)"
   ]
  },
  {
   "cell_type": "markdown",
   "metadata": {},
   "source": [
    "This method basically combines the different strategies we used above to explore the different types of timeseries to parse a full DataFrame and add the series to the EAG or the specific Buckets. \n",
    "\n",
    "Where this timeseries ends up is defined by the `BakjeID` column of the DataFrame. \n",
    "- Entering the ID of specific bucket will add the timeseries to that buckets `Bucket.series` attribute. \n",
    "- Entering -9999 as the `BakjeID` will add the series to the `Eag.series` attribute.\n",
    "\n",
    "Let's see this function in action by running a random Eag."
   ]
  },
  {
   "cell_type": "code",
   "execution_count": 13,
   "metadata": {},
   "outputs": [
    {
     "name": "stderr",
     "output_type": "stream",
     "text": [
      "2021-07-08 18:10:10,399 | create_eag - INFO : Creating EAG object for '2250-EAG-2'\n",
      "2021-07-08 18:10:10,434 | add_series_from_database - INFO : Parsing timeseries from database export and adding to EAG.\n",
      "2021-07-08 18:10:10,441 | get_series - INFO : Adding Local timeseries 'Neerslag' for Bucket '-9999'.\n",
      "2021-07-08 18:10:10,442 | get_series - INFO : Adding Local timeseries 'Uitlaat4' for Bucket '-9999'.\n",
      "2021-07-08 18:10:10,443 | get_series - INFO : Adding Local timeseries 'Gemaal1Debiet Pomp 1' for Bucket '-9999'.\n",
      "2021-07-08 18:10:10,445 | get_series - INFO : Adding Local timeseries 'Gemaal1Debiet Pomp 2' for Bucket '-9999'.\n",
      "2021-07-08 18:10:10,446 | get_series - INFO : Adding Local timeseries 'Peil' for Bucket '-9999'.\n",
      "2021-07-08 18:10:10,447 | get_series - INFO : Adding Local timeseries 'Gemaal2Debiet Pomp 2' for Bucket '-9999'.\n",
      "2021-07-08 18:10:10,449 | get_series - INFO : Adding Local timeseries 'Gemaal3Debiet Pomp 2' for Bucket '-9999'.\n",
      "2021-07-08 18:10:10,450 | get_series - INFO : Adding Local timeseries 'Gemaal3Debiet Pomp 1' for Bucket '-9999'.\n",
      "2021-07-08 18:10:10,451 | get_series - INFO : Adding Local timeseries 'Gemaal2Debiet Pomp 1' for Bucket '-9999'.\n",
      "2021-07-08 18:10:10,453 | get_series - INFO : Adding Local timeseries 'Uitlaat2' for Bucket '-9999'.\n",
      "2021-07-08 18:10:10,454 | get_series - INFO : Adding Local timeseries 'Uitlaat3' for Bucket '-9999'.\n",
      "2021-07-08 18:10:10,456 | get_series - INFO : Adding Local timeseries 'Verdamping' for Bucket '-9999'.\n",
      "2021-07-08 18:10:10,457 | get_series - INFO : Adding Local timeseries 'Uitlaat1' for Bucket '-9999'.\n",
      "2021-07-08 18:10:10,460 | get_series - INFO : Adding Local timeseries 'Inlaat4' for Bucket '-9999'.\n",
      "2021-07-08 18:10:10,461 | get_series - INFO : Adding Local timeseries 'Inlaat3' for Bucket '-9999'.\n",
      "2021-07-08 18:10:10,463 | get_series - INFO : Adding Local timeseries 'Inlaat2' for Bucket '-9999'.\n",
      "2021-07-08 18:10:10,464 | get_series - INFO : Adding Local timeseries 'Inlaat1' for Bucket '-9999'.\n",
      "2021-07-08 18:10:10,473 | get_series - WARNING : Pi service cannot be started. Module will not import series from FEWS!\n",
      "2021-07-08 18:10:10,474 | get_series - WARNING : Adding series 'Gemaal1Debiet Pomp 1' of kind 'FEWS' not supported.\n",
      "2021-07-08 18:10:10,481 | get_series - WARNING : Pi service cannot be started. Module will not import series from FEWS!\n",
      "2021-07-08 18:10:10,482 | get_series - WARNING : Adding series 'Neerslag' of kind 'FEWS' not supported.\n",
      "2021-07-08 18:10:10,485 | get_series - WARNING : Pi service cannot be started. Module will not import series from FEWS!\n",
      "2021-07-08 18:10:10,487 | get_series - WARNING : Adding series 'Peil' of kind 'FEWS' not supported.\n",
      "2021-07-08 18:10:10,490 | get_series - WARNING : Pi service cannot be started. Module will not import series from FEWS!\n",
      "2021-07-08 18:10:10,490 | get_series - WARNING : Adding series 'Verdamping' of kind 'FEWS' not supported.\n",
      "2021-07-08 18:10:10,493 | get_series - INFO : Get Constant timeseries 'Qkwel' for Bucket '85000283'.\n",
      "2021-07-08 18:10:10,530 | get_series - INFO : Get Constant timeseries 'Qwegz' for Bucket '85000000'.\n",
      "2021-07-08 18:10:10,556 | get_series - INFO : Get Constant timeseries 'Qkwel' for Bucket '85000000'.\n",
      "2021-07-08 18:10:10,564 | get_series - INFO : Get Constant timeseries 'Qkwel' for Bucket '85000289'.\n",
      "2021-07-08 18:10:10,612 | get_series - INFO : Get Constant timeseries 'Qkwel' for Bucket '85000288'.\n",
      "2021-07-08 18:10:10,647 | get_series - INFO : Get Constant timeseries 'Qkwel' for Bucket '85000284'.\n",
      "2021-07-08 18:10:10,683 | get_series - INFO : Get Constant timeseries 'Qkwel' for Bucket '85000282'.\n",
      "2021-07-08 18:10:10,718 | add_timeseries - INFO : Adding timeseries 'Gemaal1' to EAG manually\n",
      "2021-07-08 18:10:10,719 | add_timeseries - INFO : Filled 2187 NaN-values with '0.0' in series Gemaal1.\n",
      "2021-07-08 18:10:10,790 | add_timeseries - INFO : Adding timeseries 'Peil' to EAG manually\n",
      "2021-07-08 18:10:10,792 | add_timeseries - INFO : Filled 1629 NaN-values with 'ffill' in series Peil.\n",
      "2021-07-08 18:10:10,806 | add_timeseries - INFO : Adding timeseries 'q_cso' to EAG manually\n",
      "2021-07-08 18:10:10,808 | add_timeseries - INFO : Filled 1572 NaN-values with '0.0' in series q_cso.\n",
      "2021-07-08 18:10:10,822 | add_timeseries - INFO : Adding timeseries 'Neerslag' to EAG manually\n",
      "2021-07-08 18:10:10,823 | add_timeseries - INFO : Filled 1 NaN-values with '0.0' in series Neerslag.\n",
      "2021-07-08 18:10:10,841 | add_timeseries - INFO : Adding timeseries 'Verdamping' to EAG manually\n",
      "2021-07-08 18:10:10,854 | simulate - INFO : Simulating: 2250-EAG-2...\n",
      "2021-07-08 18:10:10,856 | simulate - INFO : Simulating the waterbalance for bucket: Verhard 85000282\n",
      "2021-07-08 18:10:11,628 | simulate - INFO : Simulating the waterbalance for bucket: Onverhard 85000283\n",
      "2021-07-08 18:10:11,940 | simulate - INFO : Simulating the waterbalance for bucket: Drain 85000284\n",
      "2021-07-08 18:10:12,291 | simulate - INFO : Simulating the waterbalance for bucket: Onverhard 85000288\n",
      "2021-07-08 18:10:12,301 | simulate - INFO : Simulating the waterbalance for bucket: Drain 85000289\n",
      "2021-07-08 18:10:12,312 | simulate - INFO : Simulating the waterbalance for bucket: Water 85000000\n",
      "2021-07-08 18:10:12,318 | simulate - INFO : Using observed waterlevels in simulation!\n",
      "2021-07-08 18:10:12,319 | simulate - WARNING : 'QInMax_1' is equal to 0. Assuming this means there is no limit to inflow.\n",
      "2021-07-08 18:10:12,319 | simulate - WARNING : 'QOutMax_1' is equal to 0. Assuming this means there is no limit to outflow.\n",
      "/home/david/Github/waterbalans/waterbalans/utils.py:59: RuntimeWarning: divide by zero encountered in true_divide\n",
      "  0.9, 0.7, 0.0])\n",
      "2021-07-08 18:10:12,775 | simulate - INFO : Simulation succesfully completed in 1.9s.\n"
     ]
    }
   ],
   "source": [
    "e = wb.run_eag_by_name(\"2250-EAG-2\", csvdir=\"../../data/input_csv\")"
   ]
  },
  {
   "cell_type": "markdown",
   "metadata": {},
   "source": [
    "Note the following section of the information printed to the console, which shows what this function is doing:\n",
    "```\n",
    "2019-07-19 16:51:58,128 | add_series_from_database - INFO : Parsing timeseries from database export and adding to EAG.\n",
    "2019-07-19 16:52:00,035 | get_series - INFO : Adding FEWS timeseries 'Gemaal1Debiet Pomp 1': polder|Pompvolumes|60151_pomp_1|Vol.berekend.dag.\n",
    "2019-07-19 16:52:01,506 | get_series - INFO : Adding FEWS timeseries 'Neerslag': meteo_meetstation_KNMI|ImportCAW|66005cal|P.meting.dagcal.\n",
    "2019-07-19 16:52:02,874 | get_series - INFO : Adding FEWS timeseries 'Peil': polder|Statistiek|60151_onderbemaling|H.meting.gem.\n",
    "2019-07-19 16:52:03,773 | get_series - INFO : Adding FEWS timeseries 'Verdamping': meteo_meetstation_KNMI|ImportCAW|66002_VerdampingCAL|E.metingcal.\n",
    "```"
   ]
  },
  {
   "cell_type": "markdown",
   "metadata": {},
   "source": [
    "### [`add_timeseries()`](#top)<a id=\"2.2\"></a>\n",
    "\n",
    "The `add_timeseries()` method is used to manually add timeseries to the Eag object. Timeseries can only be added to the Eag itself and not to the individual buckets.\n",
    "\n",
    "Additionally, this function contains some options on how to deal with NaNs in the data."
   ]
  },
  {
   "cell_type": "code",
   "execution_count": 14,
   "metadata": {},
   "outputs": [
    {
     "name": "stdout",
     "output_type": "stream",
     "text": [
      "Help on function add_timeseries in module waterbalans.eag:\n",
      "\n",
      "add_timeseries(self, series, name=None, tmin=None, tmax=None, freq='D', fillna=False, method=None)\n",
      "    Method to add series directly to EAG. Series must contain volumes (so\n",
      "    not divided by area). Series must be negative for water taken out of the\n",
      "    EAG and positive for water coming into the EAG.\n",
      "    \n",
      "    Parameters\n",
      "    ----------\n",
      "    series: pandas.DataFrame or pandas.Series\n",
      "    name: str, default None\n",
      "        name of series to add, if not provided uses\n",
      "        first column name in DataFrame or Series name\n",
      "    tmin: str or pandas.Timestamp, optional\n",
      "        start time for series to add to Eag\n",
      "    tmax: str or pandas.Timestamp, optional\n",
      "        end time for series to add to Eag\n",
      "    freq: str, optional\n",
      "        timestep of the series, should generally be left alone\n",
      "    fillna: bool, default False\n",
      "        if False, do not fill NaNs, if True fill NaNs according to method\n",
      "    method: str or float\n",
      "        if str (i.e. 'ffill') use this method to fill Nans, if float, use\n",
      "        this value to fill in the NaNs (i.e. 0.0)\n",
      "\n"
     ]
    }
   ],
   "source": [
    "help(wb.Eag.add_timeseries)"
   ]
  },
  {
   "cell_type": "markdown",
   "metadata": {},
   "source": [
    "As the docstring shows, the NaNs can be filled by specifying a method (i.e. ffill, bfill, etc.) or passing a value which will be used to fill in the Nans.\n",
    "\n",
    "From our earlier Eag simulation we can see the following output in the log pertaining to the `add_timeseries()` method:\n",
    "```\n",
    "2019-07-19 16:52:04,202 | add_timeseries - INFO : Adding timeseries 'Gemaal1' to EAG manually\n",
    "2019-07-19 16:52:04,204 | add_timeseries - INFO : Filled 2187 NaN-values with '0.0' in series Gemaal1.\n",
    "2019-07-19 16:52:04,211 | add_timeseries - INFO : Adding timeseries 'Peil' to EAG manually\n",
    "2019-07-19 16:52:04,212 | add_timeseries - WARNING : Series Peil already present in EAG, overwriting data where not NaN!\n",
    "2019-07-19 16:52:04,219 | add_timeseries - INFO : Adding timeseries 'q_cso' to EAG manually\n",
    "2019-07-19 16:52:04,222 | add_timeseries - INFO : Filled 1572 NaN-values with '0.0' in series q_cso.\n",
    "2019-07-19 16:52:04,231 | add_timeseries - INFO : Adding timeseries 'Neerslag' to EAG manually\n",
    "2019-07-19 16:52:04,232 | add_timeseries - WARNING : Series Neerslag already present in EAG, overwriting data where not NaN!\n",
    "2019-07-19 16:52:04,243 | add_timeseries - INFO : Adding timeseries 'Verdamping' to EAG manually\n",
    "2019-07-19 16:52:04,245 | add_timeseries - WARNING : Series Verdamping already present in EAG, overwriting data where not NaN!\n",
    "```\n",
    "\n",
    "Note the warning that is given when a timeseries with the same name is already present in the Eag object. In this case, the series present in the Eag is updated with the values from the new series. If the new series contains NaNs, the value of the old series is kept."
   ]
  },
  {
   "cell_type": "markdown",
   "metadata": {},
   "source": [
    "### [`wb.utils.add_timeseries_to_obj()`](#top)<a id=\"2.3\"></a>\n",
    "\n",
    "This method is used to parse a DataFrame with timeseries data (one column per series) and add each series to the Eag object. It essentially wraps the previous `e.add_timeseries` method and deduces some information from the column names. \n",
    "- if `data_from_excel=False` (default option) the column names are assumed to be of the form `Name<#>|description`. In this case the name is used to determine how to parse the timeseries and add it to the Eag object.\n",
    "- if `data_from_excel=True` the data must be identical to the data in the `uitgangspunten` sheet in the Excel balances (No columns can be removed and the order must be preserved). The column names are not used as the function knows the exact order the columns."
   ]
  },
  {
   "cell_type": "code",
   "execution_count": 15,
   "metadata": {},
   "outputs": [
    {
     "name": "stdout",
     "output_type": "stream",
     "text": [
      "Help on function add_timeseries_to_obj in module waterbalans.utils:\n",
      "\n",
      "add_timeseries_to_obj(eag_or_gaf, df, tmin=None, tmax=None, overwrite=False, data_from_excel=False)\n",
      "    Add timeseries to EAG or GAF. Only parses column names starting with\n",
      "    'Neerslag', 'Verdamping', 'Inlaat', 'Uitlaat', 'Peil', or 'Gemaal'.\n",
      "    \n",
      "    Parameters\n",
      "    ----------\n",
      "    eag_or_gaf : waterbalans.Eag or waterbalans.Gaf\n",
      "        An existing Eag or Gaf object\n",
      "    df : pandas.DataFrame\n",
      "        DataFrame with DateTimeIndex containing series to be added\n",
      "    tmin : pandas.TimeStamp, optional\n",
      "        start time for added series (the default is None, which\n",
      "        attempts to pick up tmin from existing Eag or Gaf object)\n",
      "    tmax : pandas.TimeStamp, optional\n",
      "        end time for added series (the default is None, which\n",
      "        attempts to pick up tmax from existing Eag or Gaf object)\n",
      "    overwrite : bool, optional\n",
      "        overwrite series if name already exists in Eag or Gaf object (the default is False)\n",
      "    data_from_excel: bool, optional\n",
      "        if True, assumes data source is Excel Balance 'uitgangspunten' sheet.\n",
      "        Function will make an assumption about the column names and order and\n",
      "        disregards column names of the passed DataFrame. If False uses DataFrame\n",
      "        column names (default).\n",
      "\n"
     ]
    }
   ],
   "source": [
    "help(wb.utils.add_timeseries_to_obj)"
   ]
  },
  {
   "cell_type": "markdown",
   "metadata": {},
   "source": [
    "Load the data from the `uitgangspunten` sheet (stored as a zipped pickle for quick reading). "
   ]
  },
  {
   "cell_type": "code",
   "execution_count": 16,
   "metadata": {},
   "outputs": [],
   "source": [
    "series = wb.utils.get_extra_series_from_pickle(\"../../data/excel_pklz/2250-EAG-2_series.pklz\")"
   ]
  },
  {
   "cell_type": "markdown",
   "metadata": {},
   "source": [
    "Add to our Eag object from earlier:"
   ]
  },
  {
   "cell_type": "code",
   "execution_count": 17,
   "metadata": {},
   "outputs": [
    {
     "ename": "IndexError",
     "evalue": "Item wrong length 17 instead of 20.",
     "output_type": "error",
     "traceback": [
      "\u001b[0;31m---------------------------------------------------------------------------\u001b[0m",
      "\u001b[0;31mIndexError\u001b[0m                                Traceback (most recent call last)",
      "\u001b[0;32m<ipython-input-17-82fa182ed94c>\u001b[0m in \u001b[0;36m<module>\u001b[0;34m\u001b[0m\n\u001b[0;32m----> 1\u001b[0;31m \u001b[0mwb\u001b[0m\u001b[0;34m.\u001b[0m\u001b[0mutils\u001b[0m\u001b[0;34m.\u001b[0m\u001b[0madd_timeseries_to_obj\u001b[0m\u001b[0;34m(\u001b[0m\u001b[0me\u001b[0m\u001b[0;34m,\u001b[0m \u001b[0mseries\u001b[0m\u001b[0;34m,\u001b[0m \u001b[0moverwrite\u001b[0m\u001b[0;34m=\u001b[0m\u001b[0;32mTrue\u001b[0m\u001b[0;34m,\u001b[0m \u001b[0mdata_from_excel\u001b[0m\u001b[0;34m=\u001b[0m\u001b[0;32mTrue\u001b[0m\u001b[0;34m)\u001b[0m\u001b[0;34m\u001b[0m\u001b[0;34m\u001b[0m\u001b[0m\n\u001b[0m",
      "\u001b[0;32m~/Github/waterbalans/waterbalans/utils.py\u001b[0m in \u001b[0;36madd_timeseries_to_obj\u001b[0;34m(eag_or_gaf, df, tmin, tmax, overwrite, data_from_excel)\u001b[0m\n\u001b[1;32m    260\u001b[0m         colmask = [True if icol.lower().startswith(inam.lower())\n\u001b[1;32m    261\u001b[0m                    else False for icol in columns]\n\u001b[0;32m--> 262\u001b[0;31m         \u001b[0mseries\u001b[0m \u001b[0;34m=\u001b[0m \u001b[0mdf\u001b[0m\u001b[0;34m.\u001b[0m\u001b[0mloc\u001b[0m\u001b[0;34m[\u001b[0m\u001b[0;34m:\u001b[0m\u001b[0;34m,\u001b[0m \u001b[0mcolmask\u001b[0m\u001b[0;34m]\u001b[0m\u001b[0;34m\u001b[0m\u001b[0;34m\u001b[0m\u001b[0m\n\u001b[0m\u001b[1;32m    263\u001b[0m         \u001b[0;31m# Water bucket converts outgoing fluxes to negative, so outgoing fluxes can be entered positive\u001b[0m\u001b[0;34m\u001b[0m\u001b[0;34m\u001b[0m\u001b[0;34m\u001b[0m\u001b[0m\n\u001b[1;32m    264\u001b[0m         \u001b[0;32mfor\u001b[0m \u001b[0mjcol\u001b[0m \u001b[0;32min\u001b[0m \u001b[0mrange\u001b[0m\u001b[0;34m(\u001b[0m\u001b[0mseries\u001b[0m\u001b[0;34m.\u001b[0m\u001b[0mshape\u001b[0m\u001b[0;34m[\u001b[0m\u001b[0;36m1\u001b[0m\u001b[0;34m]\u001b[0m\u001b[0;34m)\u001b[0m\u001b[0;34m:\u001b[0m\u001b[0;34m\u001b[0m\u001b[0;34m\u001b[0m\u001b[0m\n",
      "\u001b[0;32m~/anaconda3/envs/waterbalans/lib/python3.7/site-packages/pandas/core/indexing.py\u001b[0m in \u001b[0;36m__getitem__\u001b[0;34m(self, key)\u001b[0m\n\u001b[1;32m   1402\u001b[0m                 \u001b[0;32mexcept\u001b[0m \u001b[0;34m(\u001b[0m\u001b[0mKeyError\u001b[0m\u001b[0;34m,\u001b[0m \u001b[0mIndexError\u001b[0m\u001b[0;34m,\u001b[0m \u001b[0mAttributeError\u001b[0m\u001b[0;34m)\u001b[0m\u001b[0;34m:\u001b[0m\u001b[0;34m\u001b[0m\u001b[0;34m\u001b[0m\u001b[0m\n\u001b[1;32m   1403\u001b[0m                     \u001b[0;32mpass\u001b[0m\u001b[0;34m\u001b[0m\u001b[0;34m\u001b[0m\u001b[0m\n\u001b[0;32m-> 1404\u001b[0;31m             \u001b[0;32mreturn\u001b[0m \u001b[0mself\u001b[0m\u001b[0;34m.\u001b[0m\u001b[0m_getitem_tuple\u001b[0m\u001b[0;34m(\u001b[0m\u001b[0mkey\u001b[0m\u001b[0;34m)\u001b[0m\u001b[0;34m\u001b[0m\u001b[0;34m\u001b[0m\u001b[0m\n\u001b[0m\u001b[1;32m   1405\u001b[0m         \u001b[0;32melse\u001b[0m\u001b[0;34m:\u001b[0m\u001b[0;34m\u001b[0m\u001b[0;34m\u001b[0m\u001b[0m\n\u001b[1;32m   1406\u001b[0m             \u001b[0;31m# we by definition only have the 0th axis\u001b[0m\u001b[0;34m\u001b[0m\u001b[0;34m\u001b[0m\u001b[0;34m\u001b[0m\u001b[0m\n",
      "\u001b[0;32m~/anaconda3/envs/waterbalans/lib/python3.7/site-packages/pandas/core/indexing.py\u001b[0m in \u001b[0;36m_getitem_tuple\u001b[0;34m(self, tup)\u001b[0m\n\u001b[1;32m    806\u001b[0m                 \u001b[0;32mcontinue\u001b[0m\u001b[0;34m\u001b[0m\u001b[0;34m\u001b[0m\u001b[0m\n\u001b[1;32m    807\u001b[0m \u001b[0;34m\u001b[0m\u001b[0m\n\u001b[0;32m--> 808\u001b[0;31m             \u001b[0mretval\u001b[0m \u001b[0;34m=\u001b[0m \u001b[0mgetattr\u001b[0m\u001b[0;34m(\u001b[0m\u001b[0mretval\u001b[0m\u001b[0;34m,\u001b[0m \u001b[0mself\u001b[0m\u001b[0;34m.\u001b[0m\u001b[0mname\u001b[0m\u001b[0;34m)\u001b[0m\u001b[0;34m.\u001b[0m\u001b[0m_getitem_axis\u001b[0m\u001b[0;34m(\u001b[0m\u001b[0mkey\u001b[0m\u001b[0;34m,\u001b[0m \u001b[0maxis\u001b[0m\u001b[0;34m=\u001b[0m\u001b[0mi\u001b[0m\u001b[0;34m)\u001b[0m\u001b[0;34m\u001b[0m\u001b[0;34m\u001b[0m\u001b[0m\n\u001b[0m\u001b[1;32m    809\u001b[0m \u001b[0;34m\u001b[0m\u001b[0m\n\u001b[1;32m    810\u001b[0m         \u001b[0;32mreturn\u001b[0m \u001b[0mretval\u001b[0m\u001b[0;34m\u001b[0m\u001b[0;34m\u001b[0m\u001b[0m\n",
      "\u001b[0;32m~/anaconda3/envs/waterbalans/lib/python3.7/site-packages/pandas/core/indexing.py\u001b[0m in \u001b[0;36m_getitem_axis\u001b[0;34m(self, key, axis)\u001b[0m\n\u001b[1;32m   1772\u001b[0m             \u001b[0;32mreturn\u001b[0m \u001b[0mself\u001b[0m\u001b[0;34m.\u001b[0m\u001b[0m_get_slice_axis\u001b[0m\u001b[0;34m(\u001b[0m\u001b[0mkey\u001b[0m\u001b[0;34m,\u001b[0m \u001b[0maxis\u001b[0m\u001b[0;34m=\u001b[0m\u001b[0maxis\u001b[0m\u001b[0;34m)\u001b[0m\u001b[0;34m\u001b[0m\u001b[0;34m\u001b[0m\u001b[0m\n\u001b[1;32m   1773\u001b[0m         \u001b[0;32melif\u001b[0m \u001b[0mcom\u001b[0m\u001b[0;34m.\u001b[0m\u001b[0mis_bool_indexer\u001b[0m\u001b[0;34m(\u001b[0m\u001b[0mkey\u001b[0m\u001b[0;34m)\u001b[0m\u001b[0;34m:\u001b[0m\u001b[0;34m\u001b[0m\u001b[0;34m\u001b[0m\u001b[0m\n\u001b[0;32m-> 1774\u001b[0;31m             \u001b[0;32mreturn\u001b[0m \u001b[0mself\u001b[0m\u001b[0;34m.\u001b[0m\u001b[0m_getbool_axis\u001b[0m\u001b[0;34m(\u001b[0m\u001b[0mkey\u001b[0m\u001b[0;34m,\u001b[0m \u001b[0maxis\u001b[0m\u001b[0;34m=\u001b[0m\u001b[0maxis\u001b[0m\u001b[0;34m)\u001b[0m\u001b[0;34m\u001b[0m\u001b[0;34m\u001b[0m\u001b[0m\n\u001b[0m\u001b[1;32m   1775\u001b[0m         \u001b[0;32melif\u001b[0m \u001b[0mis_list_like_indexer\u001b[0m\u001b[0;34m(\u001b[0m\u001b[0mkey\u001b[0m\u001b[0;34m)\u001b[0m\u001b[0;34m:\u001b[0m\u001b[0;34m\u001b[0m\u001b[0;34m\u001b[0m\u001b[0m\n\u001b[1;32m   1776\u001b[0m \u001b[0;34m\u001b[0m\u001b[0m\n",
      "\u001b[0;32m~/anaconda3/envs/waterbalans/lib/python3.7/site-packages/pandas/core/indexing.py\u001b[0m in \u001b[0;36m_getbool_axis\u001b[0;34m(self, key, axis)\u001b[0m\n\u001b[1;32m   1422\u001b[0m         \u001b[0;31m# caller is responsible for ensuring non-None axis\u001b[0m\u001b[0;34m\u001b[0m\u001b[0;34m\u001b[0m\u001b[0;34m\u001b[0m\u001b[0m\n\u001b[1;32m   1423\u001b[0m         \u001b[0mlabels\u001b[0m \u001b[0;34m=\u001b[0m \u001b[0mself\u001b[0m\u001b[0;34m.\u001b[0m\u001b[0mobj\u001b[0m\u001b[0;34m.\u001b[0m\u001b[0m_get_axis\u001b[0m\u001b[0;34m(\u001b[0m\u001b[0maxis\u001b[0m\u001b[0;34m)\u001b[0m\u001b[0;34m\u001b[0m\u001b[0;34m\u001b[0m\u001b[0m\n\u001b[0;32m-> 1424\u001b[0;31m         \u001b[0mkey\u001b[0m \u001b[0;34m=\u001b[0m \u001b[0mcheck_bool_indexer\u001b[0m\u001b[0;34m(\u001b[0m\u001b[0mlabels\u001b[0m\u001b[0;34m,\u001b[0m \u001b[0mkey\u001b[0m\u001b[0;34m)\u001b[0m\u001b[0;34m\u001b[0m\u001b[0;34m\u001b[0m\u001b[0m\n\u001b[0m\u001b[1;32m   1425\u001b[0m         \u001b[0minds\u001b[0m\u001b[0;34m,\u001b[0m \u001b[0;34m=\u001b[0m \u001b[0mkey\u001b[0m\u001b[0;34m.\u001b[0m\u001b[0mnonzero\u001b[0m\u001b[0;34m(\u001b[0m\u001b[0;34m)\u001b[0m\u001b[0;34m\u001b[0m\u001b[0;34m\u001b[0m\u001b[0m\n\u001b[1;32m   1426\u001b[0m         \u001b[0;32mtry\u001b[0m\u001b[0;34m:\u001b[0m\u001b[0;34m\u001b[0m\u001b[0;34m\u001b[0m\u001b[0m\n",
      "\u001b[0;32m~/anaconda3/envs/waterbalans/lib/python3.7/site-packages/pandas/core/indexing.py\u001b[0m in \u001b[0;36mcheck_bool_indexer\u001b[0;34m(index, key)\u001b[0m\n\u001b[1;32m   2397\u001b[0m         \u001b[0;32mif\u001b[0m \u001b[0mlen\u001b[0m\u001b[0;34m(\u001b[0m\u001b[0mresult\u001b[0m\u001b[0;34m)\u001b[0m \u001b[0;34m!=\u001b[0m \u001b[0mlen\u001b[0m\u001b[0;34m(\u001b[0m\u001b[0mindex\u001b[0m\u001b[0;34m)\u001b[0m\u001b[0;34m:\u001b[0m\u001b[0;34m\u001b[0m\u001b[0;34m\u001b[0m\u001b[0m\n\u001b[1;32m   2398\u001b[0m             raise IndexError(\n\u001b[0;32m-> 2399\u001b[0;31m                 \u001b[0;34m\"Item wrong length {} instead of {}.\"\u001b[0m\u001b[0;34m.\u001b[0m\u001b[0mformat\u001b[0m\u001b[0;34m(\u001b[0m\u001b[0mlen\u001b[0m\u001b[0;34m(\u001b[0m\u001b[0mresult\u001b[0m\u001b[0;34m)\u001b[0m\u001b[0;34m,\u001b[0m \u001b[0mlen\u001b[0m\u001b[0;34m(\u001b[0m\u001b[0mindex\u001b[0m\u001b[0;34m)\u001b[0m\u001b[0;34m)\u001b[0m\u001b[0;34m\u001b[0m\u001b[0;34m\u001b[0m\u001b[0m\n\u001b[0m\u001b[1;32m   2400\u001b[0m             )\n\u001b[1;32m   2401\u001b[0m \u001b[0;34m\u001b[0m\u001b[0m\n",
      "\u001b[0;31mIndexError\u001b[0m: Item wrong length 17 instead of 20."
     ]
    }
   ],
   "source": [
    "wb.utils.add_timeseries_to_obj(e, series, overwrite=True, data_from_excel=True)"
   ]
  },
  {
   "cell_type": "markdown",
   "metadata": {},
   "source": [
    "## [Where are my timeseries?](#top)<a id=\"3\"></a>\n",
    "\n",
    "So where do the timeseries go when they are added to the Eag? These are the options when adding a Timeseries:\n",
    "- If a Bucket Id is specified they are added to the Bucket.series attribute\n",
    "- If no Bucket Id is specified (-9999) they are added to the Eag\n",
    "\n",
    "Once the simulation is run, timeseries get copied from the Eag to the relevant Buckets:\n",
    "- When the simulation is performed, each bucket picks up the series it requires from the Eag.series. Generally these are precipitation (Neerslag) and evaporation (Verdamping).\n",
    "- Eag series with name 'q_cso' is only used if there is MengRiool Bucket (combined sewer overflow bucket) and otherwise ignored.\n",
    "- Eag series with name 'Peil', 'Inlaat#', 'Uitlaat#' are all added to the Water bucket.\n",
    "- Eag series with name starting with 'Gemaal' are ignored in the simulation.\n",
    "- All left-over unrecognized series names are added to the Water bucket as external forcing.\n",
    "\n",
    "Let's take a look at the series in the Eag:"
   ]
  },
  {
   "cell_type": "code",
   "execution_count": 18,
   "metadata": {},
   "outputs": [
    {
     "data": {
      "text/plain": [
       "Index(['Gemaal1', 'Peil', 'q_cso', 'Neerslag', 'Verdamping'], dtype='object')"
      ]
     },
     "execution_count": 18,
     "metadata": {},
     "output_type": "execute_result"
    }
   ],
   "source": [
    "e.series.columns"
   ]
  },
  {
   "cell_type": "markdown",
   "metadata": {},
   "source": [
    "Let's take a look at the series in each bucket:"
   ]
  },
  {
   "cell_type": "code",
   "execution_count": 19,
   "metadata": {},
   "outputs": [
    {
     "name": "stdout",
     "output_type": "stream",
     "text": [
      "Verhard    85000282 ['Qkwel', 'Neerslag', 'Verdamping']\n",
      "Onverhard  85000283 ['Qkwel', 'Neerslag', 'Verdamping']\n",
      "Drain      85000284 ['Qkwel', 'Neerslag', 'Verdamping']\n",
      "Onverhard  85000288 ['Qkwel', 'Neerslag', 'Verdamping']\n",
      "Drain      85000289 ['Qkwel', 'Neerslag', 'Verdamping']\n"
     ]
    }
   ],
   "source": [
    "for b in e.get_buckets():\n",
    "    print(\"{0:<9s}  {1:>8d} {2}\".format(b.name, b.idn, list(b.series.columns)))"
   ]
  },
  {
   "cell_type": "markdown",
   "metadata": {},
   "source": [
    "And in the Water bucket (note that the 'q_cso' and 'gemaal' series were not added):"
   ]
  },
  {
   "cell_type": "code",
   "execution_count": 20,
   "metadata": {},
   "outputs": [
    {
     "data": {
      "text/plain": [
       "Index(['Qwegz', 'Qkwel', 'Neerslag', 'Verdamping'], dtype='object')"
      ]
     },
     "execution_count": 20,
     "metadata": {},
     "output_type": "execute_result"
    }
   ],
   "source": [
    "e.water.series.columns"
   ]
  },
  {
   "cell_type": "code",
   "execution_count": null,
   "metadata": {},
   "outputs": [],
   "source": []
  }
 ],
 "metadata": {
  "interpreter": {
   "hash": "916dbcbb3f70747c44a77c7bcd40155683ae19c65e1c03b4aa3499c5328201f1"
  },
  "kernelspec": {
   "display_name": "Python 3.8.10 64-bit",
   "name": "python3"
  },
  "language_info": {
   "codemirror_mode": {
    "name": "ipython",
    "version": 3
   },
   "file_extension": ".py",
   "mimetype": "text/x-python",
   "name": "python",
   "nbconvert_exporter": "python",
   "pygments_lexer": "ipython3",
   "version": "3.7.7"
  }
 },
 "nbformat": 4,
 "nbformat_minor": 4
}